{
 "cells": [
  {
   "cell_type": "code",
   "execution_count": 1,
   "id": "1250ad0c-a37f-4f6d-a396-f9243fc6eef7",
   "metadata": {},
   "outputs": [],
   "source": [
    "import os\n",
    "files = ['166.8 M  333.7 M  hdfs://main:9000/double.csv',\n",
    " '166.8 M  166.8 M  hdfs://main:9000/single.csv']"
   ]
  },
  {
   "cell_type": "code",
   "execution_count": 2,
   "id": "b720ebc7-fbbb-4af0-9fa1-bbf29aa6d1db",
   "metadata": {},
   "outputs": [
    {
     "name": "stdout",
     "output_type": "stream",
     "text": [
      "csv already downloaded\n"
     ]
    }
   ],
   "source": [
    "if not os.path.exists(\"hdma-wi-2021.csv\"):\n",
    "    !wget https://pages.cs.wisc.edu/~harter/cs639/data/hdma-wi-2021.csv\n",
    "else:\n",
    "    print(\"csv already downloaded\")"
   ]
  },
  {
   "cell_type": "code",
   "execution_count": 3,
   "id": "65d233cc-7bd1-4958-a815-e88df780bbb3",
   "metadata": {},
   "outputs": [
    {
     "name": "stdout",
     "output_type": "stream",
     "text": [
      "files already copied\n"
     ]
    }
   ],
   "source": [
    "result = !hdfs dfs -du -h hdfs://main:9000/\n",
    "\n",
    "if result != files:\n",
    "    !hdfs dfs -D dfs.block.size=1048576 -D dfs.replication=1 -cp hdma-wi-2021.csv hdfs://main:9000/single.csv\n",
    "    !hdfs dfs -D dfs.block.size=1048576 -D dfs.replication=2 -cp hdma-wi-2021.csv hdfs://main:9000/double.csv\n",
    "else:\n",
    "    print(\"files already copied\")"
   ]
  },
  {
   "cell_type": "code",
   "execution_count": 4,
   "id": "5224fe5b-2f21-41b0-8e11-b5e9ff3f1206",
   "metadata": {},
   "outputs": [
    {
     "name": "stdout",
     "output_type": "stream",
     "text": [
      "166.8 M  333.7 M  hdfs://main:9000/double.csv\n",
      "166.8 M  166.8 M  hdfs://main:9000/single.csv\n"
     ]
    }
   ],
   "source": [
    "!hdfs dfs -du -h hdfs://main:9000/\n",
    "# expected output\n",
    "# 166.8 M  333.7 M  hdfs://main:9000/double.csv\n",
    "# 166.8 M  166.8 M  hdfs://main:9000/single.csv"
   ]
  },
  {
   "cell_type": "code",
   "execution_count": null,
   "id": "231f0620-a9d3-403c-a5a9-2ceeb730a64f",
   "metadata": {},
   "outputs": [],
   "source": []
  }
 ],
 "metadata": {
  "kernelspec": {
   "display_name": "Python 3 (ipykernel)",
   "language": "python",
   "name": "python3"
  },
  "language_info": {
   "codemirror_mode": {
    "name": "ipython",
    "version": 3
   },
   "file_extension": ".py",
   "mimetype": "text/x-python",
   "name": "python",
   "nbconvert_exporter": "python",
   "pygments_lexer": "ipython3",
   "version": "3.10.6"
  }
 },
 "nbformat": 4,
 "nbformat_minor": 5
}
