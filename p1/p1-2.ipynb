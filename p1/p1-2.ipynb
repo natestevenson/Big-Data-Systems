{
 "cells": [
  {
   "cell_type": "code",
   "execution_count": 1,
   "id": "6b117011-c94b-4760-97b0-7e257218d768",
   "metadata": {},
   "outputs": [
    {
     "ename": "ModuleNotFoundError",
     "evalue": "No module named 'torch'",
     "output_type": "error",
     "traceback": [
      "\u001b[0;31m---------------------------------------------------------------------------\u001b[0m",
      "\u001b[0;31mModuleNotFoundError\u001b[0m                       Traceback (most recent call last)",
      "\u001b[0;32m/var/folders/d8/lzkxl3zx6cvg0mrkn3qt5jnh0000gn/T/ipykernel_25014/1701523066.py\u001b[0m in \u001b[0;36m<module>\u001b[0;34m\u001b[0m\n\u001b[1;32m      1\u001b[0m \u001b[0;32mimport\u001b[0m \u001b[0mpandas\u001b[0m \u001b[0;32mas\u001b[0m \u001b[0mpd\u001b[0m\u001b[0;34m\u001b[0m\u001b[0;34m\u001b[0m\u001b[0m\n\u001b[1;32m      2\u001b[0m \u001b[0;32mimport\u001b[0m \u001b[0mnumpy\u001b[0m \u001b[0;32mas\u001b[0m \u001b[0mnp\u001b[0m\u001b[0;34m\u001b[0m\u001b[0;34m\u001b[0m\u001b[0m\n\u001b[0;32m----> 3\u001b[0;31m \u001b[0;32mimport\u001b[0m \u001b[0mtorch\u001b[0m\u001b[0;34m\u001b[0m\u001b[0;34m\u001b[0m\u001b[0m\n\u001b[0m\u001b[1;32m      4\u001b[0m \u001b[0;32mimport\u001b[0m \u001b[0mmatplotlib\u001b[0m\u001b[0;34m.\u001b[0m\u001b[0mpyplot\u001b[0m \u001b[0;32mas\u001b[0m \u001b[0mplt\u001b[0m\u001b[0;34m\u001b[0m\u001b[0;34m\u001b[0m\u001b[0m\n\u001b[1;32m      5\u001b[0m \u001b[0;32mimport\u001b[0m \u001b[0mtime\u001b[0m\u001b[0;34m\u001b[0m\u001b[0;34m\u001b[0m\u001b[0m\n",
      "\u001b[0;31mModuleNotFoundError\u001b[0m: No module named 'torch'"
     ]
    }
   ],
   "source": [
    "import pandas as pd\n",
    "import numpy as np\n",
    "import torch\n",
    "import matplotlib.pyplot as plt\n",
    "import time"
   ]
  },
  {
   "cell_type": "code",
   "execution_count": 2,
   "id": "604ad3a6-e788-4770-baa3-698fa82cc3f0",
   "metadata": {},
   "outputs": [],
   "source": [
    "#Part 1: Prediction with Hardcoded Model"
   ]
  },
  {
   "cell_type": "code",
   "execution_count": 3,
   "id": "46dd3478-3514-4fcd-a24c-4778ebaabd54",
   "metadata": {},
   "outputs": [],
   "source": [
    "test_df = pd.read_csv(\"test.csv\")\n",
    "test_np = test_df.values\n",
    "test_tensor = torch.from_numpy(test_np).to(torch.float64)"
   ]
  },
  {
   "cell_type": "code",
   "execution_count": 4,
   "id": "8ba55bd9-1d42-47aa-b143-970e29d7c15c",
   "metadata": {},
   "outputs": [],
   "source": [
    "testX_tensor = test_tensor[:,:-1]"
   ]
  },
  {
   "cell_type": "code",
   "execution_count": 5,
   "id": "b65a9469-440b-4941-a769-da8be892b050",
   "metadata": {},
   "outputs": [],
   "source": [
    "testY_tensor = test_tensor[:,-1].reshape(-1,1)"
   ]
  },
  {
   "cell_type": "code",
   "execution_count": 6,
   "id": "838c4cc2-34b1-482e-abf1-76e57d35bab9",
   "metadata": {},
   "outputs": [],
   "source": [
    "train_df = pd.read_csv(\"train.csv\")\n",
    "train_np = train_df.values\n",
    "train_tensor = torch.from_numpy(train_np).to(torch.float64)"
   ]
  },
  {
   "cell_type": "code",
   "execution_count": 7,
   "id": "4af4d339-4600-4b23-ad76-96dc11669d35",
   "metadata": {},
   "outputs": [],
   "source": [
    "trainX_tensor = train_tensor[:,:-1]"
   ]
  },
  {
   "cell_type": "code",
   "execution_count": 8,
   "id": "0af8b63a-f51e-4a27-9ec5-3d264315b7a5",
   "metadata": {},
   "outputs": [],
   "source": [
    "trainY_tensor = train_tensor[:,-1].reshape(-1,1)"
   ]
  },
  {
   "cell_type": "code",
   "execution_count": 9,
   "id": "87847efc-fec2-4c40-a93b-3ec9354bbd4b",
   "metadata": {},
   "outputs": [],
   "source": [
    "coef = torch.tensor([\n",
    "        [0.0040],\n",
    "        [0.0040],\n",
    "        [0.0040],\n",
    "        [0.0040],\n",
    "        [0.0040],\n",
    "        [0.0040], # POS_50_59_CP\n",
    "        [0.0300], # POS_60_69_CP\n",
    "        [0.0300],\n",
    "        [0.0300],\n",
    "        [0.0300]\n",
    "], dtype=testX_tensor.dtype)\n",
    "#coef"
   ]
  },
  {
   "cell_type": "code",
   "execution_count": 10,
   "id": "771d3626-b6f0-4bb3-ac14-e40b74409aa1",
   "metadata": {},
   "outputs": [
    {
     "name": "stdout",
     "output_type": "stream",
     "text": [
      "Predicted number of deaths in this tract:  9.844\n"
     ]
    }
   ],
   "source": [
    "print(\"Predicted number of deaths in this tract: \", (testX_tensor[0] @ coef).item())"
   ]
  },
  {
   "cell_type": "code",
   "execution_count": 11,
   "id": "6f67d103-9547-4193-8b47-c6a5d5fb672e",
   "metadata": {},
   "outputs": [],
   "source": [
    "#REQUIREMENT\n",
    "if torch.cuda.is_available():\n",
    "    print(\"on GPU\")\n",
    "    testX_tensor.to(\"cuda\")\n",
    "    testY_tensor.to(\"cuda\")\n",
    "    trainX_tensor.to(\"cuda\")\n",
    "    trainY_tensor.to(\"cuda\")\n",
    "    coef.to(\"cuda\")"
   ]
  },
  {
   "cell_type": "code",
   "execution_count": 12,
   "id": "f31f7d0c-d4a0-4cdd-974e-0de4a3bde918",
   "metadata": {},
   "outputs": [],
   "source": [
    "#Part 2: R^2 Score"
   ]
  },
  {
   "cell_type": "code",
   "execution_count": 13,
   "id": "9c7ac734-21d9-43e5-9e75-5fce4484913a",
   "metadata": {},
   "outputs": [],
   "source": [
    "predictedY = testX_tensor @ coef\n",
    "avg = testY_tensor.sum()/len(testY_tensor)\n",
    "SStot = ((testY_tensor - avg)**2).sum()"
   ]
  },
  {
   "cell_type": "code",
   "execution_count": 14,
   "id": "1b8ada22-7410-4428-8c25-5394f7569102",
   "metadata": {},
   "outputs": [],
   "source": [
    "SSreg = ((testY_tensor - predictedY)**2).sum()"
   ]
  },
  {
   "cell_type": "code",
   "execution_count": 15,
   "id": "0e6a63df-e212-4089-90e1-f9e71e8e032e",
   "metadata": {},
   "outputs": [],
   "source": [
    "improvement = SStot - SSreg\n",
    "r2_score = improvement/SStot"
   ]
  },
  {
   "cell_type": "code",
   "execution_count": 16,
   "id": "63457627-1797-4bed-8670-b6cffd88a2a6",
   "metadata": {},
   "outputs": [],
   "source": [
    "def r2_score(trueY, predictedY):\n",
    "    avg = trueY.sum()/len(trueY)\n",
    "    SStot = ((trueY - avg)**2).sum()\n",
    "    SSreg = ((trueY - predictedY)**2).sum()\n",
    "    improvement = SStot - SSreg\n",
    "    r2_score = improvement/SStot\n",
    "    return r2_score"
   ]
  },
  {
   "cell_type": "code",
   "execution_count": 17,
   "id": "36ac373f-db23-4b18-aa28-a5ab57457fd7",
   "metadata": {},
   "outputs": [
    {
     "data": {
      "text/plain": [
       "0.41103503288417204"
      ]
     },
     "execution_count": 17,
     "metadata": {},
     "output_type": "execute_result"
    }
   ],
   "source": [
    "r2_score(testY_tensor, predictedY).item()"
   ]
  },
  {
   "cell_type": "code",
   "execution_count": 18,
   "id": "bbd3026e-693d-4371-b077-ce0fd8ade70e",
   "metadata": {},
   "outputs": [],
   "source": [
    "#Part 3: Optimization"
   ]
  },
  {
   "cell_type": "code",
   "execution_count": 19,
   "id": "7b21ed69-1094-4ca4-bd88-6c019a2d2f43",
   "metadata": {},
   "outputs": [
    {
     "data": {
      "text/plain": [
       "tensor(19., grad_fn=<AddBackward0>)"
      ]
     },
     "execution_count": 19,
     "metadata": {},
     "output_type": "execute_result"
    }
   ],
   "source": [
    "x = torch.tensor(0.0, requires_grad=True)\n",
    "y = x**2 - 8*x + 19\n",
    "y"
   ]
  },
  {
   "cell_type": "code",
   "execution_count": 20,
   "id": "8d69af09-b852-4534-8f86-452d5fff8e72",
   "metadata": {},
   "outputs": [
    {
     "name": "stdout",
     "output_type": "stream",
     "text": [
      "\n",
      "Optimized value:  3.9950480461120605\n"
     ]
    },
    {
     "data": {
      "image/png": "[encoded data removed]",
      "text/plain": [
       "<Figure size 640x480 with 1 Axes>"
      ]
     },
     "metadata": {},
     "output_type": "display_data"
    }
   ],
   "source": [
    "def f(x):\n",
    "    return x**2 - 8*x + 19\n",
    "\n",
    "x= torch.arange(-1, 6, 0.1)\n",
    "y = f(x)\n",
    "plt.plot(x, y)\n",
    "\n",
    "x = torch.tensor(0.0, requires_grad=True)\n",
    "optimizer = torch.optim.SGD([x], lr=0.1)\n",
    "\n",
    "for epoch in range(30):\n",
    "    optimizer.zero_grad()\n",
    "    y = f(x)\n",
    "    plt.plot(x.detach(), y.detach(), \"ro\")\n",
    "    y.backward()\n",
    "    optimizer.step()# X gets updated here!\n",
    "    #print(x, y)\n",
    "    \n",
    "print(\"\\nOptimized value: \", x.item())"
   ]
  },
  {
   "cell_type": "code",
   "execution_count": 21,
   "id": "92714abe-caae-40c5-849c-efef1740015d",
   "metadata": {},
   "outputs": [],
   "source": [
    "#Part 4: Linear Regression"
   ]
  },
  {
   "cell_type": "code",
   "execution_count": 22,
   "id": "c0ca7c61-3456-430c-bf7c-a953618370fd",
   "metadata": {},
   "outputs": [],
   "source": [
    "ds = torch.utils.data.TensorDataset(\n",
    "    trainX_tensor,\n",
    "    trainY_tensor\n",
    ")\n",
    "dl = torch.utils.data.DataLoader(ds, shuffle=True, batch_size=10)"
   ]
  },
  {
   "cell_type": "code",
   "execution_count": 23,
   "id": "e4ea5e18-d9a6-4ca5-abb9-bac73aeb0793",
   "metadata": {},
   "outputs": [
    {
     "name": "stdout",
     "output_type": "stream",
     "text": [
      "\n",
      "Training time:  10.424732446670532\n",
      "R^2 score:  0.57599758551747\n"
     ]
    }
   ],
   "source": [
    "model = torch.nn.Linear(10, 1, dtype = torch.float64)\n",
    "optimizer = torch.optim.SGD([model.weight, model.bias], lr=0.0000001)\n",
    "LOSS_fn = torch.nn.MSELoss()\n",
    "start = time.time()\n",
    "for epoch in range(300):\n",
    "    for batchx, batchy in dl:\n",
    "        predictedy=model(batchx)\n",
    "        loss=LOSS_fn(batchy, predictedy)\n",
    "        loss.backward() #update weight.grad and bias.grad\n",
    "        optimizer.step() # update weight and bias based on the graidents\n",
    "        optimizer.zero_grad() # weight.grad = 0 and bias.grad = 0\n",
    "    x, y = ds[:]\n",
    "    #HOW AM I DOING SO FAR?\n",
    "    # if(epoch%10==0):\n",
    "    #     print(epoch, LOSS_fn(y, model(x)))\n",
    "end = time.time()\n",
    "print(\"\\nTraining time: \", end-start)\n",
    "predictedY = testX_tensor @ model.weight.reshape(10,-1)\n",
    "print(\"R^2 score: \", r2_score(testY_tensor, predictedY).item())"
   ]
  },
  {
   "cell_type": "code",
   "execution_count": 27,
   "id": "d09c67b9-2295-4f7b-b574-6c686fd99f08",
   "metadata": {},
   "outputs": [
    {
     "data": {
      "image/png": "[encoded data removed]",
      "text/plain": [
       "<Figure size 640x480 with 1 Axes>"
      ]
     },
     "metadata": {},
     "output_type": "display_data"
    }
   ],
   "source": [
    "fig = plt.bar(range(len(model.weight.detach()[0])), model.weight.detach()[0], tick_label=train_df.columns.values[:-1])\n",
    "fig = plt.xticks(rotation=70)\n",
    "fig = plt.ylabel(\"model.weight coef\")\n",
    "plt.show()"
   ]
  },
  {
   "cell_type": "code",
   "execution_count": null,
   "id": "0adfc332-2165-4278-bf2d-13d6149ebf5d",
   "metadata": {},
   "outputs": [],
   "source": []
  }
 ],
 "metadata": {
  "kernelspec": {
   "display_name": "Python 3 (ipykernel)",
   "language": "python",
   "name": "python3"
  },
  "language_info": {
   "codemirror_mode": {
    "name": "ipython",
    "version": 3
   },
   "file_extension": ".py",
   "mimetype": "text/x-python",
   "name": "python",
   "nbconvert_exporter": "python",
   "pygments_lexer": "ipython3",
   "version": "3.9.7"
  }
 },
 "nbformat": 4,
 "nbformat_minor": 5
}
