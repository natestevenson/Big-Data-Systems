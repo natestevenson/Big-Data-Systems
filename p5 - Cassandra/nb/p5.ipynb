{
 "cells": [
  {
   "cell_type": "code",
   "execution_count": 1,
   "id": "5e9e1538-1f42-4b03-a012-83822064ad78",
   "metadata": {},
   "outputs": [],
   "source": [
    "#Part 1: Station Metadata"
   ]
  },
  {
   "cell_type": "code",
   "execution_count": 2,
   "id": "dd6bc992-89af-4f8e-803d-eb693f725acf",
   "metadata": {},
   "outputs": [],
   "source": [
    "import time\n",
    "from io import BytesIO\n",
    "import subprocess\n",
    "import os\n",
    "import re\n",
    "import pandas as pd\n",
    "from zipfile import ZipFile\n",
    "from pyspark.sql.functions import col, expr, row_number, udf, corr\n",
    "import station_pb2_grpc, station_pb2, grpc\n",
    "from pyspark.sql.types import StringType, FloatType\n",
    "import matplotlib.pyplot as plt\n",
    "\n",
    "from cassandra.cluster import Cluster\n",
    "try:\n",
    "    cluster = Cluster(['project-5-nateproject5-db-1', 'project-5-nateproject5-db-2', 'project-5-nateproject5-db-3'])\n",
    "    session = cluster.connect()\n",
    "except Exception as e:\n",
    "    print(e)"
   ]
  },
  {
   "cell_type": "code",
   "execution_count": 3,
   "id": "4bcdf7ec-1415-44d6-a054-fd09d2c457fb",
   "metadata": {},
   "outputs": [
    {
     "data": {
      "text/plain": [
       "<cassandra.cluster.ResultSet at 0x7f40e0bdc430>"
      ]
     },
     "execution_count": 3,
     "metadata": {},
     "output_type": "execute_result"
    }
   ],
   "source": [
    "session.execute(\"\"\"\n",
    "DROP KEYSPACE IF EXISTS weather;\n",
    "\"\"\")"
   ]
  },
  {
   "cell_type": "code",
   "execution_count": 4,
   "id": "7eb2ce74-e8f0-49db-ad61-8e23bffe393b",
   "metadata": {},
   "outputs": [
    {
     "data": {
      "text/plain": [
       "<cassandra.cluster.ResultSet at 0x7f41151e1b70>"
      ]
     },
     "execution_count": 4,
     "metadata": {},
     "output_type": "execute_result"
    }
   ],
   "source": [
    "#create a weather keyspace with 3x replication\n",
    "session.execute(\"\"\"\n",
    "CREATE KEYSPACE IF NOT EXISTS weather \n",
    "   WITH REPLICATION = { \n",
    "      'class' : 'SimpleStrategy', \n",
    "      'replication_factor' : 3 \n",
    "      } \n",
    "\"\"\")"
   ]
  },
  {
   "cell_type": "code",
   "execution_count": 5,
   "id": "444024cf-866f-4d27-8ab5-5692ed2a1468",
   "metadata": {},
   "outputs": [
    {
     "data": {
      "text/plain": [
       "<cassandra.cluster.ResultSet at 0x7f4114cb7a60>"
      ]
     },
     "execution_count": 5,
     "metadata": {},
     "output_type": "execute_result"
    }
   ],
   "source": [
    "#inside weather, create a station_record type containing two ints: tmin and tmax\n",
    "session.execute(\"\"\"\n",
    "CREATE TYPE weather.station_record (\n",
    "  tmin int,\n",
    "  tmax int\n",
    ");\n",
    "\"\"\")"
   ]
  },
  {
   "cell_type": "code",
   "execution_count": 6,
   "id": "16053876-cf03-4e27-8bed-0d6456495860",
   "metadata": {},
   "outputs": [
    {
     "data": {
      "text/plain": [
       "<cassandra.cluster.ResultSet at 0x7f4114d5b700>"
      ]
     },
     "execution_count": 6,
     "metadata": {},
     "output_type": "execute_result"
    }
   ],
   "source": [
    "# inside weather, create a stations table\n",
    "# have four columns: id (text), name (text), date (date), record (weather.station_record)\n",
    "# id is a partition key and corresponds to a station's ID\n",
    "# date is a cluster key, ascending\n",
    "# name is a static field\n",
    "# record is a regular field because there will be many records per station partition\n",
    "session.execute(\"\"\"\n",
    "CREATE TABLE weather.stations (\n",
    "    id text,\n",
    "    name text STATIC,\n",
    "    date date,\n",
    "    record weather.station_record,\n",
    "    PRIMARY KEY (id, date)\n",
    ") WITH CLUSTERING ORDER BY (date ASC)\n",
    "\"\"\")"
   ]
  },
  {
   "cell_type": "code",
   "execution_count": 7,
   "id": "d03624a2-e289-4fca-aa5f-725d5f8c2ebe",
   "metadata": {},
   "outputs": [
    {
     "name": "stdout",
     "output_type": "stream",
     "text": [
      "CREATE KEYSPACE weather WITH replication = {'class': 'SimpleStrategy', 'replication_factor': '3'}  AND durable_writes = true;\n",
      "\n",
      "CREATE TABLE weather.stations (\n",
      "    id text,\n",
      "    date date,\n",
      "    name text static,\n",
      "    record station_record,\n",
      "    PRIMARY KEY (id, date)\n",
      ") WITH CLUSTERING ORDER BY (date ASC)\n",
      "    AND additional_write_policy = '99p'\n",
      "    AND bloom_filter_fp_chance = 0.01\n",
      "    AND caching = {'keys': 'ALL', 'rows_per_partition': 'NONE'}\n",
      "    AND cdc = false\n",
      "    AND comment = ''\n",
      "    AND compaction = {'class': 'org.apache.cassandra.db.compaction.SizeTieredCompactionStrategy', 'max_threshold': '32', 'min_threshold': '4'}\n",
      "    AND compression = {'chunk_length_in_kb': '16', 'class': 'org.apache.cassandra.io.compress.LZ4Compressor'}\n",
      "    AND crc_check_chance = 1.0\n",
      "    AND default_time_to_live = 0\n",
      "    AND extensions = {}\n",
      "    AND gc_grace_seconds = 864000\n",
      "    AND max_index_interval = 2048\n",
      "    AND memtable_flush_period_in_ms = 0\n",
      "    AND min_index_interval = 128\n",
      "    AND read_repair = 'BLOCKING'\n",
      "    AND speculative_retry = '99p';\n"
     ]
    }
   ],
   "source": [
    "#Q1: what is the schema?\n",
    "print(session.execute(\"describe keyspace weather\").one().create_statement)\n",
    "print()\n",
    "print(session.execute(\"describe table weather.stations\").one().create_statement)"
   ]
  },
  {
   "cell_type": "code",
   "execution_count": 8,
   "id": "576dffdd-5bb0-4c1e-acfb-2f036b992f4d",
   "metadata": {},
   "outputs": [
    {
     "name": "stdout",
     "output_type": "stream",
     "text": [
      ":: loading settings :: url = jar:file:/usr/local/lib/python3.10/dist-packages/pyspark/jars/ivy-2.5.0.jar!/org/apache/ivy/core/settings/ivysettings.xml\n"
     ]
    },
    {
     "name": "stderr",
     "output_type": "stream",
     "text": [
      "Ivy Default Cache set to: /root/.ivy2/cache\n",
      "The jars for the packages stored in: /root/.ivy2/jars\n",
      "com.datastax.spark#spark-cassandra-connector_2.12 added as a dependency\n",
      ":: resolving dependencies :: org.apache.spark#spark-submit-parent-8216cdef-c2ae-4446-bc1f-2cfdd0d1549c;1.0\n",
      "\tconfs: [default]\n",
      "\tfound com.datastax.spark#spark-cassandra-connector_2.12;3.2.0 in central\n",
      "\tfound com.datastax.spark#spark-cassandra-connector-driver_2.12;3.2.0 in central\n",
      "\tfound com.datastax.oss#java-driver-core-shaded;4.13.0 in central\n",
      "\tfound com.datastax.oss#native-protocol;1.5.0 in central\n",
      "\tfound com.datastax.oss#java-driver-shaded-guava;25.1-jre-graal-sub-1 in central\n",
      "\tfound com.typesafe#config;1.4.1 in central\n",
      "\tfound org.slf4j#slf4j-api;1.7.26 in central\n",
      "\tfound io.dropwizard.metrics#metrics-core;4.1.18 in central\n",
      "\tfound org.hdrhistogram#HdrHistogram;2.1.12 in central\n",
      "\tfound org.reactivestreams#reactive-streams;1.0.3 in central\n",
      "\tfound com.github.stephenc.jcip#jcip-annotations;1.0-1 in central\n",
      "\tfound com.github.spotbugs#spotbugs-annotations;3.1.12 in central\n",
      "\tfound com.google.code.findbugs#jsr305;3.0.2 in central\n",
      "\tfound com.datastax.oss#java-driver-mapper-runtime;4.13.0 in central\n",
      "\tfound com.datastax.oss#java-driver-query-builder;4.13.0 in central\n",
      "\tfound org.apache.commons#commons-lang3;3.10 in central\n",
      "\tfound com.thoughtworks.paranamer#paranamer;2.8 in central\n",
      "\tfound org.scala-lang#scala-reflect;2.12.11 in central\n",
      ":: resolution report :: resolve 1153ms :: artifacts dl 30ms\n",
      "\t:: modules in use:\n",
      "\tcom.datastax.oss#java-driver-core-shaded;4.13.0 from central in [default]\n",
      "\tcom.datastax.oss#java-driver-mapper-runtime;4.13.0 from central in [default]\n",
      "\tcom.datastax.oss#java-driver-query-builder;4.13.0 from central in [default]\n",
      "\tcom.datastax.oss#java-driver-shaded-guava;25.1-jre-graal-sub-1 from central in [default]\n",
      "\tcom.datastax.oss#native-protocol;1.5.0 from central in [default]\n",
      "\tcom.datastax.spark#spark-cassandra-connector-driver_2.12;3.2.0 from central in [default]\n",
      "\tcom.datastax.spark#spark-cassandra-connector_2.12;3.2.0 from central in [default]\n",
      "\tcom.github.spotbugs#spotbugs-annotations;3.1.12 from central in [default]\n",
      "\tcom.github.stephenc.jcip#jcip-annotations;1.0-1 from central in [default]\n",
      "\tcom.google.code.findbugs#jsr305;3.0.2 from central in [default]\n",
      "\tcom.thoughtworks.paranamer#paranamer;2.8 from central in [default]\n",
      "\tcom.typesafe#config;1.4.1 from central in [default]\n",
      "\tio.dropwizard.metrics#metrics-core;4.1.18 from central in [default]\n",
      "\torg.apache.commons#commons-lang3;3.10 from central in [default]\n",
      "\torg.hdrhistogram#HdrHistogram;2.1.12 from central in [default]\n",
      "\torg.reactivestreams#reactive-streams;1.0.3 from central in [default]\n",
      "\torg.scala-lang#scala-reflect;2.12.11 from central in [default]\n",
      "\torg.slf4j#slf4j-api;1.7.26 from central in [default]\n",
      "\t---------------------------------------------------------------------\n",
      "\t|                  |            modules            ||   artifacts   |\n",
      "\t|       conf       | number| search|dwnlded|evicted|| number|dwnlded|\n",
      "\t---------------------------------------------------------------------\n",
      "\t|      default     |   18  |   0   |   0   |   0   ||   18  |   0   |\n",
      "\t---------------------------------------------------------------------\n",
      ":: retrieving :: org.apache.spark#spark-submit-parent-8216cdef-c2ae-4446-bc1f-2cfdd0d1549c\n",
      "\tconfs: [default]\n",
      "\t0 artifacts copied, 18 already retrieved (0kB/28ms)\n",
      "23/04/17 07:33:52 WARN NativeCodeLoader: Unable to load native-hadoop library for your platform... using builtin-java classes where applicable\n",
      "Using Spark's default log4j profile: org/apache/spark/log4j-defaults.properties\n",
      "Setting default log level to \"WARN\".\n",
      "To adjust logging level use sc.setLogLevel(newLevel). For SparkR, use setLogLevel(newLevel).\n"
     ]
    }
   ],
   "source": [
    "from pyspark.sql import SparkSession\n",
    "spark = (SparkSession.builder\n",
    "         .appName(\"p5\")\n",
    "         .config('spark.jars.packages', 'com.datastax.spark:spark-cassandra-connector_2.12:3.2.0')\n",
    "         .config(\"spark.sql.extensions\", \"com.datastax.spark.connector.CassandraSparkExtensions\")\n",
    "         .getOrCreate())"
   ]
  },
  {
   "cell_type": "code",
   "execution_count": 9,
   "id": "f3a06675-8e1d-46bf-94af-f70a58e0e286",
   "metadata": {},
   "outputs": [
    {
     "name": "stdout",
     "output_type": "stream",
     "text": [
      "ghcnd-stations.txt already downloaded\n"
     ]
    },
    {
     "name": "stderr",
     "output_type": "stream",
     "text": [
      "                                                                                \r"
     ]
    }
   ],
   "source": [
    "#Download https://pages.cs.wisc.edu/~harter/cs639/data/ghcnd-stations.txt\n",
    "if not os.path.exists(\"ghcnd-stations.txt\"):\n",
    "    !wget https://pages.cs.wisc.edu/~harter/cs639/data/ghcnd-stations.txt\n",
    "else:\n",
    "    print(\"ghcnd-stations.txt already downloaded\")\n",
    "    \n",
    "df = spark.read.text(\"ghcnd-stations.txt\")\n",
    "#parse the data and insert metadata for every station that belongs to Wisconsin WI (id and name columns only) \n",
    "#into weather.stations\n",
    "for i in df.collect():\n",
    "    if( \"WI\" in i[0][38:40]):\n",
    "        id_value = \"\\'\" + i[0][:11] + \"\\'\"\n",
    "        name_value = \"\\'\" + re.findall(r'[A-Z\\s]+', i[0][40:])[0] + \"\\'\"\n",
    "        session.execute(f\"\"\"\n",
    "            INSERT INTO weather.stations\n",
    "            (id, name)\n",
    "            VALUES\n",
    "            ({id_value}, {name_value})\n",
    "        \"\"\")"
   ]
  },
  {
   "cell_type": "code",
   "execution_count": 10,
   "id": "b495e711-9674-4282-b940-fd17879e1b7d",
   "metadata": {},
   "outputs": [
    {
     "name": "stdout",
     "output_type": "stream",
     "text": [
      "\n",
      "Datacenter: datacenter1\n",
      "==========\n",
      "Address          Rack        Status State   Load            Owns                Token                                       \n",
      "                                                                                8771375606634342024                         \n",
      "172.21.0.2       rack1       Up     Normal  151.77 KiB      100.00%             -9119652977182356367                        \n",
      "172.21.0.3       rack1       Up     Normal  151.33 KiB      100.00%             -9006865905401760604                        \n",
      "172.21.0.4       rack1       Up     Normal  156.39 KiB      100.00%             -8579326566840271302                        \n",
      "172.21.0.3       rack1       Up     Normal  151.33 KiB      100.00%             -8162489257910598846                        \n",
      "172.21.0.2       rack1       Up     Normal  151.77 KiB      100.00%             -7529648424668457729                        \n",
      "172.21.0.4       rack1       Up     Normal  156.39 KiB      100.00%             -7488029456148059042                        \n",
      "172.21.0.3       rack1       Up     Normal  151.33 KiB      100.00%             -6722221028008015606                        \n",
      "172.21.0.4       rack1       Up     Normal  156.39 KiB      100.00%             -6643652808656897285                        \n",
      "172.21.0.2       rack1       Up     Normal  151.77 KiB      100.00%             -5910625128971414431                        \n",
      "172.21.0.3       rack1       Up     Normal  151.33 KiB      100.00%             -5650720411667982794                        \n",
      "172.21.0.4       rack1       Up     Normal  156.39 KiB      100.00%             -5203384578754314045                        \n",
      "172.21.0.2       rack1       Up     Normal  151.77 KiB      100.00%             -4932479676455300356                        \n",
      "172.21.0.3       rack1       Up     Normal  151.33 KiB      100.00%             -4632869006925555778                        \n",
      "172.21.0.4       rack1       Up     Normal  156.39 KiB      100.00%             -4131883962414281233                        \n",
      "172.21.0.3       rack1       Up     Normal  151.33 KiB      100.00%             -3815197074313204984                        \n",
      "172.21.0.2       rack1       Up     Normal  151.77 KiB      100.00%             -3153845375631713227                        \n",
      "172.21.0.4       rack1       Up     Normal  156.39 KiB      100.00%             -3114032557671854217                        \n",
      "172.21.0.3       rack1       Up     Normal  151.33 KiB      100.00%             -2739441193087625444                        \n",
      "172.21.0.4       rack1       Up     Normal  156.39 KiB      100.00%             -2296360625059503423                        \n",
      "172.21.0.2       rack1       Up     Normal  151.77 KiB      100.00%             -2057803475396774938                        \n",
      "172.21.0.3       rack1       Up     Normal  151.33 KiB      100.00%             -2003525500376731804                        \n",
      "172.21.0.4       rack1       Up     Normal  156.39 KiB      100.00%             -1220604743833923883                        \n",
      "172.21.0.2       rack1       Up     Normal  151.77 KiB      100.00%             -966506364704562678                         \n",
      "172.21.0.3       rack1       Up     Normal  151.33 KiB      100.00%             -924152692929130147                         \n",
      "172.21.0.4       rack1       Up     Normal  156.39 KiB      100.00%             -484689051123030243                         \n",
      "172.21.0.2       rack1       Up     Normal  151.77 KiB      100.00%             -122129717213400922                         \n",
      "172.21.0.3       rack1       Up     Normal  151.33 KiB      100.00%             319367312751461825                          \n",
      "172.21.0.4       rack1       Up     Normal  156.39 KiB      100.00%             594683756324571414                          \n",
      "172.21.0.3       rack1       Up     Normal  151.33 KiB      100.00%             1286731555829997324                         \n",
      "172.21.0.2       rack1       Up     Normal  151.77 KiB      100.00%             1318138512689182316                         \n",
      "172.21.0.4       rack1       Up     Normal  156.39 KiB      100.00%             1838203762005163386                         \n",
      "172.21.0.2       rack1       Up     Normal  151.77 KiB      100.00%             2389639129029215129                         \n",
      "172.21.0.4       rack1       Up     Normal  156.39 KiB      100.00%             2805568005083698885                         \n",
      "172.21.0.3       rack1       Up     Normal  151.33 KiB      100.00%             2876736108343895962                         \n",
      "172.21.0.2       rack1       Up     Normal  151.77 KiB      100.00%             3407490533771642144                         \n",
      "172.21.0.2       rack1       Up     Normal  151.77 KiB      100.00%             4225162466383992939                         \n",
      "172.21.0.4       rack1       Up     Normal  156.39 KiB      100.00%             4395572557597597523                         \n",
      "172.21.0.3       rack1       Up     Normal  151.33 KiB      100.00%             4495759404040939259                         \n",
      "172.21.0.2       rack1       Up     Normal  151.77 KiB      100.00%             5300918347609572478                         \n",
      "172.21.0.3       rack1       Up     Normal  151.33 KiB      100.00%             5473904856557053335                         \n",
      "172.21.0.4       rack1       Up     Normal  156.39 KiB      100.00%             6014595853294640820                         \n",
      "172.21.0.2       rack1       Up     Normal  151.77 KiB      100.00%             6036834040320466119                         \n",
      "172.21.0.4       rack1       Up     Normal  156.39 KiB      100.00%             6992741305810754896                         \n",
      "172.21.0.2       rack1       Up     Normal  151.77 KiB      100.00%             7116206847768067777                         \n",
      "172.21.0.3       rack1       Up     Normal  151.33 KiB      100.00%             7252539157380640463                         \n",
      "172.21.0.3       rack1       Up     Normal  151.33 KiB      100.00%             8348581057615578752                         \n",
      "172.21.0.2       rack1       Up     Normal  151.77 KiB      100.00%             8359726853448659749                         \n",
      "172.21.0.4       rack1       Up     Normal  156.39 KiB      100.00%             8771375606634342024                         \n",
      "\n",
      "  Warning: \"nodetool ring\" is used to output all the tokens of a node.\n",
      "  To view status related info of a node use \"nodetool status\" instead.\n",
      "\n",
      "\n",
      "  \n",
      "row token: -9014250178872933741\n",
      "vnode token: -9006865905401760604\n"
     ]
    }
   ],
   "source": [
    "#Q2: what is the token of the vnode that comes first after the partition for the USC00470273 sensor?\n",
    "\n",
    "#Use check_output to run nodetool ring and print the output.\n",
    "result = subprocess.check_output(['nodetool', 'ring', 'weather'], encoding=\"utf-8\")\n",
    "print(result)\n",
    "\n",
    "#Use the token(????) CQL function to get the token for the sensor.\n",
    "row_token = int(pd.DataFrame(\n",
    "    session.execute(\"\"\"\n",
    "        SELECT id, TOKEN(id) \n",
    "        FROM weather.stations\n",
    "        WHERE id='USC00470273';\n",
    "    \"\"\")\n",
    ")[\"system_token_id\"][0])\n",
    "\n",
    "#Write some code to loop over the ring and find the correct vnode.\n",
    "result_list = result.split(\"\\n\")\n",
    "vnode_token = 0\n",
    "\n",
    "for i in range(3):\n",
    "    result_list.pop(0)\n",
    "vnodes = pd.DataFrame(result_list)\n",
    "\n",
    "for row in vnodes.iterrows():\n",
    "    if len(row[-1][0].split()) > 1 and row[-1][0].split()[-1] == \"Token\":\n",
    "        continue\n",
    "    elif len(row[-1][0].split()) >= 1:\n",
    "        vnode = int(row[1][0].split()[-1])\n",
    "        if row_token <= vnode and vnode_token == 0:\n",
    "            vnode_token = vnode\n",
    "        elif row_token <= vnode and vnode_token > vnode:\n",
    "            vnode_token = vnode\n",
    "    else:\n",
    "        break\n",
    "\n",
    "print(\"row token: \" + str(row_token))\n",
    "print(\"vnode token: \" + str(vnode_token))"
   ]
  },
  {
   "cell_type": "code",
   "execution_count": 11,
   "id": "f613e836-a21e-439a-aa4c-2e68df6e6058",
   "metadata": {},
   "outputs": [],
   "source": [
    "#Part 2: Temperature Data"
   ]
  },
  {
   "cell_type": "code",
   "execution_count": 12,
   "id": "b346b7a8-529a-432f-895c-f32544079b10",
   "metadata": {},
   "outputs": [
    {
     "name": "stdout",
     "output_type": "stream",
     "text": [
      "wi-stations.zip already downloaded\n"
     ]
    }
   ],
   "source": [
    "#download data for all WI stations\n",
    "if not os.path.exists(\"wi-stations.zip\"):\n",
    "    !wget https://pages.cs.wisc.edu/~harter/cs639/data/wi-stations.zip\n",
    "else:\n",
    "    print(\"wi-stations.zip already downloaded\")"
   ]
  },
  {
   "cell_type": "code",
   "execution_count": 13,
   "id": "12c60a55-acc9-4bb9-aca8-0c21ee0ed96a",
   "metadata": {},
   "outputs": [
    {
     "name": "stderr",
     "output_type": "stream",
     "text": [
      "/tmp/ipykernel_1025/2978889804.py:22: DtypeWarning: Columns (5) have mixed types. Specify dtype option on import or set low_memory=False.\n",
      "  pdf = pd.read_csv(f, compression='gzip', header=None).drop(columns=[4, 5, 6, 7], axis=1)\n",
      "/usr/local/lib/python3.10/dist-packages/pyspark/sql/pandas/conversion.py:371: FutureWarning: iteritems is deprecated and will be removed in a future version. Use .items instead.\n",
      "  for column, series in pdf.iteritems():\n",
      "23/04/17 07:34:38 WARN TaskSetManager: Stage 1 contains a task of very large size (3055 KiB). The maximum recommended task size is 1000 KiB.\n",
      "                                                                                \r"
     ]
    },
    {
     "name": "stdout",
     "output_type": "stream",
     "text": [
      "max temp for USW00014837 is 356\n"
     ]
    },
    {
     "name": "stderr",
     "output_type": "stream",
     "text": [
      "/usr/local/lib/python3.10/dist-packages/pyspark/sql/pandas/conversion.py:371: FutureWarning: iteritems is deprecated and will be removed in a future version. Use .items instead.\n",
      "  for column, series in pdf.iteritems():\n"
     ]
    },
    {
     "name": "stdout",
     "output_type": "stream",
     "text": [
      "max temp for USR0000WDDG is 344\n"
     ]
    },
    {
     "name": "stderr",
     "output_type": "stream",
     "text": [
      "/tmp/ipykernel_1025/2978889804.py:22: DtypeWarning: Columns (5) have mixed types. Specify dtype option on import or set low_memory=False.\n",
      "  pdf = pd.read_csv(f, compression='gzip', header=None).drop(columns=[4, 5, 6, 7], axis=1)\n",
      "/usr/local/lib/python3.10/dist-packages/pyspark/sql/pandas/conversion.py:371: FutureWarning: iteritems is deprecated and will be removed in a future version. Use .items instead.\n",
      "  for column, series in pdf.iteritems():\n",
      "23/04/17 07:35:19 WARN TaskSetManager: Stage 13 contains a task of very large size (3688 KiB). The maximum recommended task size is 1000 KiB.\n",
      "                                                                                \r"
     ]
    },
    {
     "name": "stdout",
     "output_type": "stream",
     "text": [
      "max temp for USW00014898 is 356\n"
     ]
    },
    {
     "name": "stderr",
     "output_type": "stream",
     "text": [
      "/tmp/ipykernel_1025/2978889804.py:22: DtypeWarning: Columns (5) have mixed types. Specify dtype option on import or set low_memory=False.\n",
      "  pdf = pd.read_csv(f, compression='gzip', header=None).drop(columns=[4, 5, 6, 7], axis=1)\n",
      "/usr/local/lib/python3.10/dist-packages/pyspark/sql/pandas/conversion.py:371: FutureWarning: iteritems is deprecated and will be removed in a future version. Use .items instead.\n",
      "  for column, series in pdf.iteritems():\n",
      "23/04/17 07:35:44 WARN TaskSetManager: Stage 19 contains a task of very large size (3091 KiB). The maximum recommended task size is 1000 KiB.\n",
      "                                                                                \r"
     ]
    },
    {
     "name": "stdout",
     "output_type": "stream",
     "text": [
      "max temp for USW00014839 is 378\n"
     ]
    }
   ],
   "source": [
    "#get ip of vm running server.py\n",
    "with open('server_container_id.txt', 'r') as file:\n",
    "    ip = file.read().strip()\n",
    "port = 5440\n",
    "addr = f\"{ip}:{port}\"\n",
    "channel = grpc.insecure_channel(addr)\n",
    "stub = station_pb2_grpc.StationStub(channel)\n",
    "\n",
    "# install pandas 1.5.3 so that spark.createDataFrame() will work with spark version being used\n",
    "result = subprocess.check_output(['pip', 'show', 'pandas'], encoding=\"utf-8\")\n",
    "if \"Version: 1.5.3\" not in result:\n",
    "    %pip install -U pandas==1.5.3\n",
    "    print()\n",
    "    print(\"restart and run all cells required to continue\")\n",
    "\n",
    "def simulate_sensor(station):\n",
    "    # loop over tmin/tmax data for every day of 2022 for the given station;\n",
    "    with ZipFile('wi-stations.zip', 'r') as zf:\n",
    "        for file in zf.namelist():\n",
    "            if station in file:\n",
    "                with zf.open(file, 'r') as f:\n",
    "                    pdf = pd.read_csv(f, compression='gzip', header=None).drop(columns=[4, 5, 6, 7], axis=1)\n",
    "                    pdf.columns = [\"id\", \"date\", \"temps\", \"value\"]\n",
    "                    sdf = (spark.createDataFrame(pdf)\n",
    "                           .withColumn(\"value\", col(\"value\").cast(\"Int\"))\n",
    "                           .withColumn(\"date\", col(\"date\").cast(\"String\"))\n",
    "                           .withColumn(\"temps\", col(\"temps\").cast(\"String\"))\n",
    "                          )\n",
    "                    dates_pdf = (sdf.select(\"date\", \"value\", \"temps\")\n",
    "                                .where(expr(\"substring(date, 0, 4)=2022\"))\n",
    "                                .groupby(\"date\")\n",
    "                                .pivot(\"temps\", [\"TMIN\", \"TMAX\"])\n",
    "                                .agg(expr(\"first(value)\"))\n",
    "                                ).toPandas()\n",
    "                                #OFFICE HOURS HELPER CODE FROM TA:\n",
    "                                #df.where(\"date between '20220101' and '20221231'\")\n",
    "                                #             .groupby([\"station\", \"date\"])\n",
    "                                #             .pivot(\"element\", [\"TMIN\", \"TMAX\"])\n",
    "                                #             .agg(expr(\"first(value)\"))\n",
    "                                #             .sort(\"date\")).collect()\n",
    "                    for _, row in dates_pdf.iterrows():\n",
    "                        date = str(row[\"date\"])\n",
    "                        #convert to yyyy-mm-dd\n",
    "                        formattedDate = date[:4] + \"-\" + date[4:6] + \"-\" + date[6:]\n",
    "                        tmax = int(row[\"TMAX\"])\n",
    "                        tmin = int(row[\"TMIN\"])\n",
    "                        # send each to server with RecordTemps call\n",
    "                        resp = stub.RecordTemps(station_pb2.RecordTempsRequest(station=station, date=formattedDate, tmin=tmin, tmax=tmax))\n",
    "                        if resp.error:\n",
    "                            print(r.error)\n",
    "                            assert False\n",
    "\n",
    "for station in [\"USW00014837\", \"USR0000WDDG\", \"USW00014898\", \"USW00014839\"]:\n",
    "    simulate_sensor(station)\n",
    "    r = stub.StationMax(station_pb2.StationMaxRequest(station=station))\n",
    "    if r.error:\n",
    "        print(r.error)\n",
    "    else:\n",
    "        print(f\"max temp for {station} is {r.tmax}\")"
   ]
  },
  {
   "cell_type": "code",
   "execution_count": 14,
   "id": "ca30bf36-4f04-4b07-a5bb-9d0142efac7b",
   "metadata": {},
   "outputs": [],
   "source": [
    "#Part 3: Spark Analysis"
   ]
  },
  {
   "cell_type": "code",
   "execution_count": 15,
   "id": "df0998ce-e6f6-4e4b-a154-08cfd1af9768",
   "metadata": {},
   "outputs": [],
   "source": [
    "#Configured your Spark session so such that spark.table(\"cassandra.weather.stations\") \n",
    "#gives you access to the table in Cassandra\n",
    "spark.conf.set(\"spark.sql.catalog.cassandra\", \"com.datastax.spark.connector.datasource.CassandraCatalog\")\n",
    "spark.conf.set(\"spark.sql.catalog.cassandra.spark.cassandra.connection.host\", \"project-5-nateproject5-db-1:9042\")\n",
    "spark.conf.set(\"spark.sql.catalog.cassandra.spark.cassandra.connection.host\", \"project-5-nateproject5-db-2:9042\")\n",
    "spark.conf.set(\"spark.sql.catalog.cassandra.spark.cassandra.connection.host\", \"project-5-nateproject5-db-3:9042\")"
   ]
  },
  {
   "cell_type": "code",
   "execution_count": 16,
   "id": "351427e1-f07e-48c2-a98e-0545fe8bb00c",
   "metadata": {},
   "outputs": [
    {
     "name": "stdout",
     "output_type": "stream",
     "text": [
      "+---------+-----------+-----------+\n",
      "|namespace|  tableName|isTemporary|\n",
      "+---------+-----------+-----------+\n",
      "|         |weather2022|       true|\n",
      "+---------+-----------+-----------+\n",
      "\n"
     ]
    }
   ],
   "source": [
    "#Create a view called weather2022 that contains all 2022 data from cassandra.weather.stations\n",
    "spark.table(\"cassandra.weather.stations\").where(expr(\"date BETWEEN '2022-01-01' AND '2022-12-31'\"))\\\n",
    ".createOrReplaceTempView(\"weather2022\")\n",
    "spark.sql(\"show tables\").show()"
   ]
  },
  {
   "cell_type": "code",
   "execution_count": 17,
   "id": "e334f55b-1124-4962-8d5b-d981d3c8f095",
   "metadata": {},
   "outputs": [
    {
     "data": {
      "text/plain": [
       "DataFrame[id: string, date: date, record: struct<tmin:int,tmax:int>, name: string]"
      ]
     },
     "execution_count": 17,
     "metadata": {},
     "output_type": "execute_result"
    }
   ],
   "source": [
    "#Cache weather2022\n",
    "weather2022 = spark.table(\"weather2022\")\n",
    "weather2022.cache()"
   ]
  },
  {
   "cell_type": "code",
   "execution_count": 18,
   "id": "7659a551-cb8a-412b-8d43-6f5a055751b4",
   "metadata": {},
   "outputs": [
    {
     "data": {
      "text/plain": [
       "<function __main__.<lambda>(c)>"
      ]
     },
     "execution_count": 18,
     "metadata": {},
     "output_type": "execute_result"
    }
   ],
   "source": [
    "#Register a UDF (user-defined function) that takes a TMIN or TMAX number and returns Fahrenheit\n",
    "def converter(int):\n",
    "    # code from piazza post @466: https://piazza.com/class/lcupsjme6oh4gw/post/466\n",
    "    return (float(int) * .18) + 32\n",
    "celciusToFahrenheit = udf(lambda c: converter(c), FloatType())\n",
    "spark.udf.register(\"celciusToFahrenheit\", celciusToFahrenheit)"
   ]
  },
  {
   "cell_type": "code",
   "execution_count": 19,
   "id": "24b7a9dd-6e00-409d-b3a9-fc6ff56b7d25",
   "metadata": {},
   "outputs": [
    {
     "name": "stderr",
     "output_type": "stream",
     "text": [
      "                                                                                \r"
     ]
    },
    {
     "data": {
      "text/plain": [
       "<matplotlib.legend.Legend at 0x7f40d41ea650>"
      ]
     },
     "execution_count": 19,
     "metadata": {},
     "output_type": "execute_result"
    },
    {
     "data": {
      "image/png": "[encoded data removed]",
      "text/plain": [
       "<Figure size 640x480 with 1 Axes>"
      ]
     },
     "metadata": {},
     "output_type": "display_data"
    }
   ],
   "source": [
    "#Q3: what were the daily highs and lows at Madison's airport in 2022?\n",
    "data = (weather2022\n",
    "        .withColumn(\"tmin\", celciusToFahrenheit(\"record.tmin\"))\n",
    "        .withColumn(\"tmax\", celciusToFahrenheit(\"record.tmax\"))\n",
    "        .select(\"date\", \"tmin\", \"tmax\")\n",
    "        .where(expr(\"id='USW00014837'\"))\n",
    "       ).toPandas()\n",
    "\n",
    "data = data.set_index(\"date\")\n",
    "plt.plot(data['tmin'], label='low')\n",
    "plt.plot(data['tmax'], label='high')\n",
    "plt.ylabel('Daily Temp (Fahrenheit)')\n",
    "plt.xlabel('Date')\n",
    "plt.legend()"
   ]
  },
  {
   "cell_type": "code",
   "execution_count": 20,
   "id": "4b09cd62-4c0e-4b5c-aedd-5a94c5c08abf",
   "metadata": {},
   "outputs": [
    {
     "name": "stderr",
     "output_type": "stream",
     "text": [
      "/usr/local/lib/python3.10/dist-packages/pyspark/sql/pandas/conversion.py:371: FutureWarning: iteritems is deprecated and will be removed in a future version. Use .items instead.\n",
      "  for column, series in pdf.iteritems():\n",
      "                                                                                \r"
     ]
    },
    {
     "data": {
      "text/plain": [
       "[Row(correlation=0.9786907979650685)]"
      ]
     },
     "execution_count": 20,
     "metadata": {},
     "output_type": "execute_result"
    }
   ],
   "source": [
    "#Q4: what is the correlation between maximum temperatures in Madison and Milwaukee?\n",
    "\n",
    "milwaukee = weather2022.select(\"record.tmax\").where(expr(\"id='USW00014839'\")).toPandas()\n",
    "madison = weather2022.select(\"record.tmax\").where(expr(\"id='USW00014837'\")).toPandas()\n",
    "Mad_Mil = pd.DataFrame()\n",
    "Mad_Mil[\"madison_tmax\"] = pd.Series(madison[\"tmax\"])\n",
    "Mad_Mil[\"milwaukee_tmax\"] = pd.Series(milwaukee[\"tmax\"])\n",
    "correlation = spark.createDataFrame(Mad_Mil)\n",
    "correlation.agg(corr(\"madison_tmax\", \"milwaukee_tmax\").alias('correlation')).collect()\n"
   ]
  },
  {
   "cell_type": "code",
   "execution_count": 21,
   "id": "311a01d1-2212-4ad2-8ded-6edf0af5d169",
   "metadata": {},
   "outputs": [
    {
     "name": "stdout",
     "output_type": "stream",
     "text": [
      "stop the notebook and kill container not running jupyter or server.py, then run the next cell\n"
     ]
    },
    {
     "ename": "KeyboardInterrupt",
     "evalue": "",
     "output_type": "error",
     "traceback": [
      "\u001b[0;31m---------------------------------------------------------------------------\u001b[0m",
      "\u001b[0;31mKeyboardInterrupt\u001b[0m                         Traceback (most recent call last)",
      "Cell \u001b[0;32mIn[21], line 3\u001b[0m\n\u001b[1;32m      1\u001b[0m \u001b[38;5;66;03m#Part 4: Disaster Strikes\u001b[39;00m\n\u001b[1;32m      2\u001b[0m \u001b[38;5;28mprint\u001b[39m(\u001b[38;5;124m\"\u001b[39m\u001b[38;5;124mstop the notebook and kill container not running jupyter or server.py, then run the next cell\u001b[39m\u001b[38;5;124m\"\u001b[39m)\n\u001b[0;32m----> 3\u001b[0m \u001b[43mtime\u001b[49m\u001b[38;5;241;43m.\u001b[39;49m\u001b[43msleep\u001b[49m\u001b[43m(\u001b[49m\u001b[38;5;241;43m999999\u001b[39;49m\u001b[43m)\u001b[49m\n",
      "\u001b[0;31mKeyboardInterrupt\u001b[0m: "
     ]
    }
   ],
   "source": [
    "#Part 4: Disaster Strikes\n",
    "print(\"stop the notebook and kill container not running jupyter or server.py, then run the next cell\")\n",
    "time.sleep(999999)"
   ]
  },
  {
   "cell_type": "code",
   "execution_count": 22,
   "id": "71c61760-7b69-42e2-a7ce-a3e7637e45b7",
   "metadata": {},
   "outputs": [
    {
     "name": "stderr",
     "output_type": "stream",
     "text": [
      "23/04/17 07:39:39 WARN ChannelPool: [s0|/172.21.0.3:9042]  Error while opening new channel (ConnectionInitException: [s0|connecting...] Protocol initialization request, step 1 (STARTUP {CQL_VERSION=3.0.0, DRIVER_NAME=DataStax Java driver for Apache Cassandra(R), DRIVER_VERSION=4.13.0, CLIENT_ID=05aa0683-4d6b-418c-bfae-845aa372d377, APPLICATION_NAME=Spark-Cassandra-Connector-local-1681716834760}): failed to send request (java.nio.channels.NotYetConnectedException))\n"
     ]
    },
    {
     "ename": "_InactiveRpcError",
     "evalue": "<_InactiveRpcError of RPC that terminated with:\n\tstatus = StatusCode.UNKNOWN\n\tdetails = \"Exception calling application: bad argument type for built-in operation\"\n\tdebug_error_string = \"UNKNOWN:Error received from peer ipv4:172.21.0.4:5440 {created_time:\"2023-04-17T07:39:43.790691695+00:00\", grpc_status:2, grpc_message:\"Exception calling application: bad argument type for built-in operation\"}\"\n>",
     "output_type": "error",
     "traceback": [
      "\u001b[0;31m---------------------------------------------------------------------------\u001b[0m",
      "\u001b[0;31m_InactiveRpcError\u001b[0m                         Traceback (most recent call last)",
      "Cell \u001b[0;32mIn[22], line 2\u001b[0m\n\u001b[1;32m      1\u001b[0m \u001b[38;5;66;03m#Q5: does StationMax still work?\u001b[39;00m\n\u001b[0;32m----> 2\u001b[0m r \u001b[38;5;241m=\u001b[39m \u001b[43mstub\u001b[49m\u001b[38;5;241;43m.\u001b[39;49m\u001b[43mStationMax\u001b[49m\u001b[43m(\u001b[49m\u001b[43mstation_pb2\u001b[49m\u001b[38;5;241;43m.\u001b[39;49m\u001b[43mStationMaxRequest\u001b[49m\u001b[43m(\u001b[49m\u001b[43mstation\u001b[49m\u001b[38;5;241;43m=\u001b[39;49m\u001b[38;5;124;43m\"\u001b[39;49m\u001b[38;5;124;43mUSW00014837\u001b[39;49m\u001b[38;5;124;43m\"\u001b[39;49m\u001b[43m)\u001b[49m\u001b[43m)\u001b[49m\n\u001b[1;32m      3\u001b[0m \u001b[38;5;28;01mif\u001b[39;00m r\u001b[38;5;241m.\u001b[39merror:\n\u001b[1;32m      4\u001b[0m     \u001b[38;5;28mprint\u001b[39m(r\u001b[38;5;241m.\u001b[39merror)\n",
      "File \u001b[0;32m/usr/local/lib/python3.10/dist-packages/grpc/_channel.py:1030\u001b[0m, in \u001b[0;36m_UnaryUnaryMultiCallable.__call__\u001b[0;34m(self, request, timeout, metadata, credentials, wait_for_ready, compression)\u001b[0m\n\u001b[1;32m   1021\u001b[0m \u001b[38;5;28;01mdef\u001b[39;00m \u001b[38;5;21m__call__\u001b[39m(\u001b[38;5;28mself\u001b[39m,\n\u001b[1;32m   1022\u001b[0m              request: Any,\n\u001b[1;32m   1023\u001b[0m              timeout: Optional[\u001b[38;5;28mfloat\u001b[39m] \u001b[38;5;241m=\u001b[39m \u001b[38;5;28;01mNone\u001b[39;00m,\n\u001b[0;32m   (...)\u001b[0m\n\u001b[1;32m   1026\u001b[0m              wait_for_ready: Optional[\u001b[38;5;28mbool\u001b[39m] \u001b[38;5;241m=\u001b[39m \u001b[38;5;28;01mNone\u001b[39;00m,\n\u001b[1;32m   1027\u001b[0m              compression: Optional[grpc\u001b[38;5;241m.\u001b[39mCompression] \u001b[38;5;241m=\u001b[39m \u001b[38;5;28;01mNone\u001b[39;00m) \u001b[38;5;241m-\u001b[39m\u001b[38;5;241m>\u001b[39m Any:\n\u001b[1;32m   1028\u001b[0m     state, call, \u001b[38;5;241m=\u001b[39m \u001b[38;5;28mself\u001b[39m\u001b[38;5;241m.\u001b[39m_blocking(request, timeout, metadata, credentials,\n\u001b[1;32m   1029\u001b[0m                                   wait_for_ready, compression)\n\u001b[0;32m-> 1030\u001b[0m     \u001b[38;5;28;01mreturn\u001b[39;00m \u001b[43m_end_unary_response_blocking\u001b[49m\u001b[43m(\u001b[49m\u001b[43mstate\u001b[49m\u001b[43m,\u001b[49m\u001b[43m \u001b[49m\u001b[43mcall\u001b[49m\u001b[43m,\u001b[49m\u001b[43m \u001b[49m\u001b[38;5;28;43;01mFalse\u001b[39;49;00m\u001b[43m,\u001b[49m\u001b[43m \u001b[49m\u001b[38;5;28;43;01mNone\u001b[39;49;00m\u001b[43m)\u001b[49m\n",
      "File \u001b[0;32m/usr/local/lib/python3.10/dist-packages/grpc/_channel.py:910\u001b[0m, in \u001b[0;36m_end_unary_response_blocking\u001b[0;34m(state, call, with_call, deadline)\u001b[0m\n\u001b[1;32m    908\u001b[0m         \u001b[38;5;28;01mreturn\u001b[39;00m state\u001b[38;5;241m.\u001b[39mresponse\n\u001b[1;32m    909\u001b[0m \u001b[38;5;28;01melse\u001b[39;00m:\n\u001b[0;32m--> 910\u001b[0m     \u001b[38;5;28;01mraise\u001b[39;00m _InactiveRpcError(state)\n",
      "\u001b[0;31m_InactiveRpcError\u001b[0m: <_InactiveRpcError of RPC that terminated with:\n\tstatus = StatusCode.UNKNOWN\n\tdetails = \"Exception calling application: bad argument type for built-in operation\"\n\tdebug_error_string = \"UNKNOWN:Error received from peer ipv4:172.21.0.4:5440 {created_time:\"2023-04-17T07:39:43.790691695+00:00\", grpc_status:2, grpc_message:\"Exception calling application: bad argument type for built-in operation\"}\"\n>"
     ]
    }
   ],
   "source": [
    "#Q5: does StationMax still work?\n",
    "r = stub.StationMax(station_pb2.StationMaxRequest(station=\"USW00014837\"))\n",
    "if r.error:\n",
    "    print(r.error)\n",
    "else:\n",
    "    print(f\"max temp for {station} is {r.tmax}\")"
   ]
  },
  {
   "cell_type": "code",
   "execution_count": 23,
   "id": "21a280ac-f32f-46e0-a30e-beaa754f0c3d",
   "metadata": {},
   "outputs": [
    {
     "name": "stderr",
     "output_type": "stream",
     "text": [
      "/usr/local/lib/python3.10/dist-packages/pyspark/sql/pandas/conversion.py:371: FutureWarning: iteritems is deprecated and will be removed in a future version. Use .items instead.\n",
      "  for column, series in pdf.iteritems():\n",
      "23/04/17 07:39:55 WARN ChannelPool: [s0|/172.21.0.3:9042]  Error while opening new channel (ConnectionInitException: [s0|connecting...] Protocol initialization request, step 1 (STARTUP {CQL_VERSION=3.0.0, DRIVER_NAME=DataStax Java driver for Apache Cassandra(R), DRIVER_VERSION=4.13.0, CLIENT_ID=05aa0683-4d6b-418c-bfae-845aa372d377, APPLICATION_NAME=Spark-Cassandra-Connector-local-1681716834760}): failed to send request (java.nio.channels.NotYetConnectedException))\n"
     ]
    }
   ],
   "source": [
    "#Q6: does simulate_sensor still work?\n",
    "simulate_sensor(\"USC00477115\")"
   ]
  },
  {
   "cell_type": "code",
   "execution_count": 24,
   "id": "6c7edbf6-e54e-46ee-a93c-e3ebe3a704de",
   "metadata": {},
   "outputs": [
    {
     "name": "stdout",
     "output_type": "stream",
     "text": [
      "BEFORE REFRESH:  [Row(rows=1460)]\n"
     ]
    },
    {
     "name": "stderr",
     "output_type": "stream",
     "text": [
      "[Stage 41:================================================>         (5 + 1) / 6]\r"
     ]
    },
    {
     "name": "stdout",
     "output_type": "stream",
     "text": [
      "AFTER REFRESH:  [Row(rows=1825)]\n"
     ]
    },
    {
     "name": "stderr",
     "output_type": "stream",
     "text": [
      "                                                                                \r"
     ]
    }
   ],
   "source": [
    "#Q7: how does refreshing the stale cache change the number of rows in weather2022?\n",
    "print(\"BEFORE REFRESH: \", weather2022.select(expr(\"COUNT(record) as rows\")).collect())\n",
    "spark.sql(\"REFRESH TABLE weather2022\")\n",
    "print(\"AFTER REFRESH: \", weather2022.select(expr(\"COUNT(record) as rows\")).collect())"
   ]
  },
  {
   "cell_type": "code",
   "execution_count": null,
   "id": "e03488f1-10c6-4a87-98ee-4fb8d26dcb06",
   "metadata": {},
   "outputs": [],
   "source": []
  }
 ],
 "metadata": {
  "kernelspec": {
   "display_name": "Python 3 (ipykernel)",
   "language": "python",
   "name": "python3"
  },
  "language_info": {
   "codemirror_mode": {
    "name": "ipython",
    "version": 3
   },
   "file_extension": ".py",
   "mimetype": "text/x-python",
   "name": "python",
   "nbconvert_exporter": "python",
   "pygments_lexer": "ipython3",
   "version": "3.10.6"
  }
 },
 "nbformat": 4,
 "nbformat_minor": 5
}
