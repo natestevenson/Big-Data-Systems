{
 "cells": [
  {
   "cell_type": "code",
   "execution_count": 1,
   "id": "86d651e4-fa21-4646-9f79-af429c67513b",
   "metadata": {},
   "outputs": [
    {
     "name": "stderr",
     "output_type": "stream",
     "text": [
      "Using Spark's default log4j profile: org/apache/spark/log4j-defaults.properties\n",
      "Setting default log level to \"WARN\".\n",
      "To adjust logging level use sc.setLogLevel(newLevel). For SparkR, use setLogLevel(newLevel).\n",
      "23/03/31 22:46:10 WARN NativeCodeLoader: Unable to load native-hadoop library for your platform... using builtin-java classes where applicable\n"
     ]
    }
   ],
   "source": [
    "import os\n",
    "import time\n",
    "import matplotlib.pyplot as plt\n",
    "import requests\n",
    "import json\n",
    "from pyspark.sql import SparkSession\n",
    "from pyspark.sql.functions import col, expr, row_number\n",
    "from pyspark.sql.window import Window\n",
    "spark = (SparkSession.builder.appName(\"cs544\")\n",
    "         .master(\"spark://main:7077\")\n",
    "         .config(\"spark.executor.memory\", \"512M\")\n",
    "         .config(\"spark.sql.warehouse.dir\", \"hdfs://main:9000/user/hive/warehouse\")\n",
    "         .enableHiveSupport()\n",
    "         .getOrCreate())\n",
    "sc = spark.sparkContext"
   ]
  },
  {
   "cell_type": "code",
   "execution_count": 2,
   "id": "8d32ce81-f763-4b9a-aac9-2b88c56d2cf3",
   "metadata": {},
   "outputs": [],
   "source": [
    "#Part 1: Data Setup"
   ]
  },
  {
   "cell_type": "code",
   "execution_count": 3,
   "id": "327ec880-fc6d-438c-80bf-9a7cd5a1f8dd",
   "metadata": {},
   "outputs": [],
   "source": [
    "#hardcoded data for project reference \n",
    "files = [\"https://pages.cs.wisc.edu/~harter/cs639/data/hdma-wi-2021.zip\", \n",
    " \"https://pages.cs.wisc.edu/~harter/cs639/data/arid2017_to_lei_xref_csv.zip\",\n",
    "\"https://pages.cs.wisc.edu/~harter/cs639/data/code_sheets.zip\"]\n",
    "\n",
    "code_sheets = [\"ethnicity\", \"race\", \"sex\", \"states\", \"counties\", \"tracts\", \"action_taken\", \"denial_reason\", \"loan_type\", \"loan_purpose\", \"preapproval\", \"property_type\", \"agency\"]\n",
    "arid2017_to_lei_xref_csv = [\"arid2017_to_lei_xref_csv\"]\n",
    "hdma_wi_2021 = [\"hdma_wi_2021\"]"
   ]
  },
  {
   "cell_type": "code",
   "execution_count": 4,
   "id": "d94f54d5-7bcf-4efa-b491-8e81ada2ae77",
   "metadata": {},
   "outputs": [
    {
     "name": "stdout",
     "output_type": "stream",
     "text": [
      "hdma-wi-2021.zip already downloaded\n",
      "arid2017_to_lei_xref_csv.zip already downloaded\n",
      "code_sheets.zip already downloaded\n"
     ]
    }
   ],
   "source": [
    "#download zip files and extract CSVs\n",
    "\n",
    "paths = []\n",
    "for path in files:\n",
    "    csv = path.split('/')[-1]\n",
    "    if not os.path.exists(f\"{csv[0:-4]}/{csv}\"):\n",
    "        !mkdir {csv[0:-4]} && cd {csv[0:-4]} && wget {path} && unzip {csv} && cd ..\n",
    "    else:\n",
    "        print(f\"{csv} already downloaded\")\n",
    "    paths.append(f\"{csv[0:-4]}/\")"
   ]
  },
  {
   "cell_type": "code",
   "execution_count": 5,
   "id": "43269120-c9c7-4097-98b5-e689d39d1b48",
   "metadata": {},
   "outputs": [
    {
     "name": "stdout",
     "output_type": "stream",
     "text": [
      "hdma-wi-2021.csv uploaded to HDFS\n",
      "arid2017_to_lei_xref_csv.csv uploaded to HDFS\n",
      "tracts.csv uploaded to HDFS\n",
      "edit_status.csv uploaded to HDFS\n",
      "loan_type.csv uploaded to HDFS\n",
      "counties.csv uploaded to HDFS\n",
      "purchaser_type.csv uploaded to HDFS\n",
      "lien_status.csv uploaded to HDFS\n",
      "hoepa.csv uploaded to HDFS\n",
      "agency.csv uploaded to HDFS\n",
      "denial_reason.csv uploaded to HDFS\n",
      "states.csv uploaded to HDFS\n",
      "owner_occupancy.csv uploaded to HDFS\n",
      "msamd.csv uploaded to HDFS\n",
      "race.csv uploaded to HDFS\n",
      "ethnicity.csv uploaded to HDFS\n",
      "sex.csv uploaded to HDFS\n",
      "loan_purpose.csv uploaded to HDFS\n",
      "preapproval.csv uploaded to HDFS\n",
      "property_type.csv uploaded to HDFS\n",
      "action_taken.csv uploaded to HDFS\n"
     ]
    }
   ],
   "source": [
    "#upload csv files to hadoop\n",
    "csv_count = 0\n",
    "resp = !hdfs dfs -du -h hdfs://main:9000/\n",
    "for path in paths:\n",
    "    for file in os.listdir(path):\n",
    "        if \".csv\" in file:\n",
    "            found = False\n",
    "            for item in resp:   \n",
    "                if file in item:\n",
    "                    found = True\n",
    "                    break\n",
    "            csv_count+=1\n",
    "            if(found):\n",
    "                print(f\"{file} already in HDFS\")\n",
    "            else:\n",
    "                !hdfs dfs -D dfs.block.size=1048576 -D dfs.replication=1 -cp {path+file} hdfs://main:9000/{file}\n",
    "                print(f\"{file} uploaded to HDFS\")\n",
    "            \n",
    "resp = !hdfs dfs -du -h hdfs://main:9000/"
   ]
  },
  {
   "cell_type": "code",
   "execution_count": 6,
   "id": "2fe33b7a-7427-4e26-b4c8-643b66d4bb0d",
   "metadata": {},
   "outputs": [
    {
     "name": "stderr",
     "output_type": "stream",
     "text": [
      "23/03/31 22:48:02 WARN HiveConf: HiveConf of name hive.stats.jdbc.timeout does not exist\n",
      "23/03/31 22:48:02 WARN HiveConf: HiveConf of name hive.stats.retries.wait does not exist\n",
      "23/03/31 22:48:07 WARN ObjectStore: Version information not found in metastore. hive.metastore.schema.verification is not enabled so recording the schema version 2.3.0\n",
      "23/03/31 22:48:07 WARN ObjectStore: setMetaStoreSchemaVersion called but recording version is disabled: version = 2.3.0, comment = Set by MetaStore UNKNOWN@172.19.0.2\n",
      "23/03/31 22:48:08 WARN ObjectStore: Failed to get database global_temp, returning NoSuchObjectException\n",
      "23/03/31 22:48:08 WARN HadoopFSUtils: The directory hdfs://main:9000/user/hive/warehouse/banks was not found. Was it deleted very recently?\n",
      "23/03/31 22:48:10 WARN FileUtils: File does not exist: hdfs://main:9000/user/hive/warehouse/banks; Force to delete it.\n",
      "23/03/31 22:48:10 ERROR FileUtils: Failed to delete hdfs://main:9000/user/hive/warehouse/banks\n",
      "23/03/31 22:48:13 WARN SessionState: METASTORE_FILTER_HOOK will be ignored, since hive.security.authorization.manager is set to instance of HiveAuthorizerFactory.\n",
      "23/03/31 22:48:13 WARN HiveConf: HiveConf of name hive.internal.ss.authz.settings.applied.marker does not exist\n",
      "23/03/31 22:48:13 WARN HiveConf: HiveConf of name hive.stats.jdbc.timeout does not exist\n",
      "23/03/31 22:48:13 WARN HiveConf: HiveConf of name hive.stats.retries.wait does not exist\n",
      "23/03/31 22:48:28 WARN HadoopFSUtils: The directory hdfs://main:9000/user/hive/warehouse/loans was not found. Was it deleted very recently?\n",
      "23/03/31 22:48:29 WARN FileUtils: File does not exist: hdfs://main:9000/user/hive/warehouse/loans; Force to delete it.\n",
      "23/03/31 22:48:29 ERROR FileUtils: Failed to delete hdfs://main:9000/user/hive/warehouse/loans\n",
      "23/03/31 22:48:29 WARN package: Truncated the string representation of a plan since it was too large. This behavior can be adjusted by setting 'spark.sql.debug.maxToStringFields'.\n",
      "                                                                                \r"
     ]
    }
   ],
   "source": [
    "#create spark warehouse\n",
    "for file in resp:\n",
    "    csv_hadoop_path = file.split(\" \")[-1]\n",
    "    if \"user\" in csv_hadoop_path:\n",
    "        continue\n",
    "    df = (spark.read.format(\"csv\")\n",
    "        .option(\"header\", True)\n",
    "        .option(\"inferSchema\", True)\n",
    "        .load(csv_hadoop_path))\n",
    "    csv_name = csv_hadoop_path.split(\"/\")[-1].replace('-','_')[0:-4]\n",
    "    if csv_name in code_sheets:\n",
    "        df.createOrReplaceTempView(csv_name)\n",
    "    elif csv_name in arid2017_to_lei_xref_csv:\n",
    "        df.write.saveAsTable(\"banks\", mode=\"overwrite\")\n",
    "    elif csv_name in hdma_wi_2021:\n",
    "        df.write.bucketBy(8, \"county_code\").saveAsTable(\"loans\", mode=\"overwrite\")"
   ]
  },
  {
   "cell_type": "code",
   "execution_count": 7,
   "id": "dfdc63c6-89f8-4fe0-b14a-8d76cbaa91bc",
   "metadata": {},
   "outputs": [
    {
     "name": "stdout",
     "output_type": "stream",
     "text": [
      "+---------+-------------+-----------+\n",
      "|namespace|    tableName|isTemporary|\n",
      "+---------+-------------+-----------+\n",
      "|  default|        banks|      false|\n",
      "|  default|        loans|      false|\n",
      "|         | action_taken|       true|\n",
      "|         |       agency|       true|\n",
      "|         |     counties|       true|\n",
      "|         |denial_reason|       true|\n",
      "|         |    ethnicity|       true|\n",
      "|         | loan_purpose|       true|\n",
      "|         |    loan_type|       true|\n",
      "|         |  preapproval|       true|\n",
      "|         |property_type|       true|\n",
      "|         |         race|       true|\n",
      "|         |          sex|       true|\n",
      "|         |       states|       true|\n",
      "|         |       tracts|       true|\n",
      "+---------+-------------+-----------+\n",
      "\n"
     ]
    }
   ],
   "source": [
    "#Q1: what tables are in our warehouse?\n",
    "\n",
    "spark.sql(\"SHOW TABLES\").show()\n",
    "#expected results\n",
    "# +---------+-------------+-----------+\n",
    "# |namespace|    tableName|isTemporary|\n",
    "# +---------+-------------+-----------+\n",
    "# |  default|        banks|      false|\n",
    "# |  default|        loans|      false|\n",
    "# |         | action_taken|       true|\n",
    "# |         |       agency|       true|\n",
    "# |         |     counties|       true|\n",
    "# |         |denial_reason|       true|\n",
    "# |         |    ethnicity|       true|\n",
    "# |         | loan_purpose|       true|\n",
    "# |         |    loan_type|       true|\n",
    "# |         |  preapproval|       true|\n",
    "# |         |property_type|       true|\n",
    "# |         |         race|       true|\n",
    "# |         |          sex|       true|\n",
    "# |         |       states|       true|\n",
    "# |         |       tracts|       true|\n",
    "# +---------+-------------+-----------+"
   ]
  },
  {
   "cell_type": "code",
   "execution_count": 8,
   "id": "124cd714-f083-44a7-b925-b5f7fd3443db",
   "metadata": {},
   "outputs": [],
   "source": [
    "#Part 2: Filter and Join"
   ]
  },
  {
   "cell_type": "code",
   "execution_count": 9,
   "id": "720f88aa-ec1d-488f-bb2b-01f12106ced8",
   "metadata": {},
   "outputs": [
    {
     "name": "stderr",
     "output_type": "stream",
     "text": [
      "                                                                                \r"
     ]
    },
    {
     "data": {
      "text/html": [
       "<div>\n",
       "<style scoped>\n",
       "    .dataframe tbody tr th:only-of-type {\n",
       "        vertical-align: middle;\n",
       "    }\n",
       "\n",
       "    .dataframe tbody tr th {\n",
       "        vertical-align: top;\n",
       "    }\n",
       "\n",
       "    .dataframe thead th {\n",
       "        text-align: right;\n",
       "    }\n",
       "</style>\n",
       "<table border=\"1\" class=\"dataframe\">\n",
       "  <thead>\n",
       "    <tr style=\"text-align: right;\">\n",
       "      <th></th>\n",
       "      <th>num_banks_containing_word_first</th>\n",
       "    </tr>\n",
       "  </thead>\n",
       "  <tbody>\n",
       "    <tr>\n",
       "      <th>0</th>\n",
       "      <td>449</td>\n",
       "    </tr>\n",
       "  </tbody>\n",
       "</table>\n",
       "</div>"
      ],
      "text/plain": [
       "   num_banks_containing_word_first\n",
       "0                              449"
      ]
     },
     "execution_count": 9,
     "metadata": {},
     "output_type": "execute_result"
    }
   ],
   "source": [
    "#Q2: how many banks contain the word \"first\" in their name? Which ones contain \"second\"?\n",
    "\n",
    "spark.sql(\"\"\"\n",
    "SELECT DISTINCT COUNT(respondent_name) AS num_banks_containing_word_first\n",
    "FROM (\n",
    "    SELECT DISTINCT UPPER(respondent_name) AS respondent_name\n",
    "    FROM banks\n",
    "    )\n",
    "WHERE respondent_name LIKE '%FIRST%'\n",
    "\"\"\").toPandas()"
   ]
  },
  {
   "cell_type": "code",
   "execution_count": 10,
   "id": "45cbb6bd-f703-4f78-b450-e5f110c1adaa",
   "metadata": {},
   "outputs": [
    {
     "data": {
      "text/html": [
       "<div>\n",
       "<style scoped>\n",
       "    .dataframe tbody tr th:only-of-type {\n",
       "        vertical-align: middle;\n",
       "    }\n",
       "\n",
       "    .dataframe tbody tr th {\n",
       "        vertical-align: top;\n",
       "    }\n",
       "\n",
       "    .dataframe thead th {\n",
       "        text-align: right;\n",
       "    }\n",
       "</style>\n",
       "<table border=\"1\" class=\"dataframe\">\n",
       "  <thead>\n",
       "    <tr style=\"text-align: right;\">\n",
       "      <th></th>\n",
       "      <th>banks_containing_word_second</th>\n",
       "    </tr>\n",
       "  </thead>\n",
       "  <tbody>\n",
       "    <tr>\n",
       "      <th>0</th>\n",
       "      <td>OLD SECOND NATIONAL BANK</td>\n",
       "    </tr>\n",
       "  </tbody>\n",
       "</table>\n",
       "</div>"
      ],
      "text/plain": [
       "  banks_containing_word_second\n",
       "0     OLD SECOND NATIONAL BANK"
      ]
     },
     "execution_count": 10,
     "metadata": {},
     "output_type": "execute_result"
    }
   ],
   "source": [
    "#Q2: how many banks contain the word \"first\" in their name? Which ones contain \"second\"?\n",
    "\n",
    "spark.sql(\"\"\"\n",
    "SELECT respondent_name AS banks_containing_word_second\n",
    "FROM (\n",
    "    SELECT UPPER(respondent_name) AS respondent_name\n",
    "    FROM banks\n",
    "    )\n",
    "WHERE respondent_name LIKE '%SECOND%'\n",
    "\"\"\").toPandas()"
   ]
  },
  {
   "cell_type": "code",
   "execution_count": 11,
   "id": "c6e66637-aedd-4f64-a50c-acab8a05e911",
   "metadata": {},
   "outputs": [
    {
     "name": "stderr",
     "output_type": "stream",
     "text": [
      "[Stage 54:=============================>                            (1 + 1) / 2]\r"
     ]
    },
    {
     "data": {
      "text/plain": [
       "12487"
      ]
     },
     "execution_count": 11,
     "metadata": {},
     "output_type": "execute_result"
    },
    {
     "name": "stderr",
     "output_type": "stream",
     "text": [
      "                                                                                \r"
     ]
    }
   ],
   "source": [
    "#Q3: how many loan applications has your \"favorite\" bank received in the dataset?\n",
    "#bank chosen: Wells Fargo\n",
    "\n",
    "cond = [spark.table(\"banks\")[\"lei_2018\"] == spark.table(\"loans\")[\"lei\"], \n",
    "        spark.table(\"banks\")[\"lei_2019\"] == spark.table(\"loans\")[\"lei\"], \n",
    "        spark.table(\"banks\")[\"lei_2020\"] == spark.table(\"loans\")[\"lei\"]]\n",
    "result = (spark.table(\"banks\")\n",
    "          .join(spark.table(\"loans\"), cond, how=\"inner\")\n",
    "          .select(\"respondent_name\")\n",
    "          .where(\"respondent_name LIKE '%Wells Fargo%'\")\n",
    "         )\n",
    "result.count()"
   ]
  },
  {
   "cell_type": "code",
   "execution_count": 12,
   "id": "018f4cf9-b921-434b-8e23-714310178755",
   "metadata": {},
   "outputs": [
    {
     "name": "stdout",
     "output_type": "stream",
     "text": [
      "== Physical Plan ==\n",
      "AdaptiveSparkPlan (8)\n",
      "+- Project (7)\n",
      "   +- BroadcastHashJoin Inner BuildLeft (6)\n",
      "      :- BroadcastExchange (3)\n",
      "      :  +- Filter (2)\n",
      "      :     +- Scan parquet default.banks (1)\n",
      "      +- Filter (5)\n",
      "         +- Scan parquet default.loans (4)\n",
      "\n",
      "\n",
      "(1) Scan parquet default.banks\n",
      "Output [4]: [respondent_name#1093, lei_2018#1095, lei_2019#1096, lei_2020#1097]\n",
      "Batched: true\n",
      "Location: InMemoryFileIndex [hdfs://main:9000/user/hive/warehouse/banks]\n",
      "PushedFilters: [IsNotNull(respondent_name), StringContains(respondent_name,Wells Fargo), IsNotNull(lei_2018), IsNotNull(lei_2019), IsNotNull(lei_2020)]\n",
      "ReadSchema: struct<respondent_name:string,lei_2018:string,lei_2019:string,lei_2020:string>\n",
      "\n",
      "(2) Filter\n",
      "Input [4]: [respondent_name#1093, lei_2018#1095, lei_2019#1096, lei_2020#1097]\n",
      "Condition : (((((((isnotnull(respondent_name#1093) AND Contains(respondent_name#1093, Wells Fargo)) AND (lei_2019#1096 = lei_2018#1095)) AND (lei_2020#1097 = lei_2018#1095)) AND (lei_2020#1097 = lei_2019#1096)) AND isnotnull(lei_2018#1095)) AND isnotnull(lei_2019#1096)) AND isnotnull(lei_2020#1097))\n",
      "\n",
      "(3) BroadcastExchange\n",
      "Input [4]: [respondent_name#1093, lei_2018#1095, lei_2019#1096, lei_2020#1097]\n",
      "Arguments: HashedRelationBroadcastMode(List(input[1, string, false], input[2, string, false], input[3, string, false]),false), [plan_id=787]\n",
      "\n",
      "(4) Scan parquet default.loans\n",
      "Output [1]: [lei#1114]\n",
      "Batched: true\n",
      "Location: InMemoryFileIndex [hdfs://main:9000/user/hive/warehouse/loans]\n",
      "PushedFilters: [IsNotNull(lei)]\n",
      "ReadSchema: struct<lei:string>\n",
      "\n",
      "(5) Filter\n",
      "Input [1]: [lei#1114]\n",
      "Condition : isnotnull(lei#1114)\n",
      "\n",
      "(6) BroadcastHashJoin\n",
      "Left keys [3]: [lei_2018#1095, lei_2019#1096, lei_2020#1097]\n",
      "Right keys [3]: [lei#1114, lei#1114, lei#1114]\n",
      "Join condition: None\n",
      "\n",
      "(7) Project\n",
      "Output [1]: [respondent_name#1093]\n",
      "Input [5]: [respondent_name#1093, lei_2018#1095, lei_2019#1096, lei_2020#1097, lei#1114]\n",
      "\n",
      "(8) AdaptiveSparkPlan\n",
      "Output [1]: [respondent_name#1093]\n",
      "Arguments: isFinalPlan=false\n",
      "\n",
      "\n"
     ]
    }
   ],
   "source": [
    "#Q4: what does results.explain(\"formatted\") tell us about Spark's query plan for Q3?\n",
    "\n",
    "result.explain(\"formatted\")\n",
    "# 1. which table is sent to every executor via a BroadcastExchange operation?\n",
    "#    banks\n",
    "# 2. on which tables is \"is not null\" filtering added by the optimizer?\n",
    "#    both banks and loans\n",
    "# 3. which Functions do the HashAggregates use?\n",
    "#    none\n"
   ]
  },
  {
   "cell_type": "code",
   "execution_count": 13,
   "id": "9d6bf23d-8e66-4e10-86c6-957282c3f410",
   "metadata": {},
   "outputs": [
    {
     "name": "stderr",
     "output_type": "stream",
     "text": [
      "                                                                                \r"
     ]
    },
    {
     "data": {
      "text/html": [
       "<div>\n",
       "<style scoped>\n",
       "    .dataframe tbody tr th:only-of-type {\n",
       "        vertical-align: middle;\n",
       "    }\n",
       "\n",
       "    .dataframe tbody tr th {\n",
       "        vertical-align: top;\n",
       "    }\n",
       "\n",
       "    .dataframe thead th {\n",
       "        text-align: right;\n",
       "    }\n",
       "</style>\n",
       "<table border=\"1\" class=\"dataframe\">\n",
       "  <thead>\n",
       "    <tr style=\"text-align: right;\">\n",
       "      <th></th>\n",
       "      <th>census_tract</th>\n",
       "      <th>county</th>\n",
       "      <th>loan_purpose</th>\n",
       "      <th>derived_dwelling_category</th>\n",
       "      <th>thousands</th>\n",
       "      <th>interest_rate</th>\n",
       "      <th>years</th>\n",
       "      <th>action_taken</th>\n",
       "    </tr>\n",
       "  </thead>\n",
       "  <tbody>\n",
       "    <tr>\n",
       "      <th>0</th>\n",
       "      <td>55085971300</td>\n",
       "      <td>Oneida</td>\n",
       "      <td>None</td>\n",
       "      <td>Single Family (1-4 Units):Site-Built</td>\n",
       "      <td>3005.0</td>\n",
       "      <td>2.375</td>\n",
       "      <td>15.0</td>\n",
       "      <td>Loan originated</td>\n",
       "    </tr>\n",
       "    <tr>\n",
       "      <th>1</th>\n",
       "      <td>55063000400</td>\n",
       "      <td>La Crosse</td>\n",
       "      <td>None</td>\n",
       "      <td>Multifamily:Site-Built</td>\n",
       "      <td>2405.0</td>\n",
       "      <td>3.6</td>\n",
       "      <td>10.0</td>\n",
       "      <td>Loan originated</td>\n",
       "    </tr>\n",
       "    <tr>\n",
       "      <th>2</th>\n",
       "      <td>55007960600</td>\n",
       "      <td>Bayfield</td>\n",
       "      <td>None</td>\n",
       "      <td>Single Family (1-4 Units):Site-Built</td>\n",
       "      <td>1655.0</td>\n",
       "      <td>2.375</td>\n",
       "      <td>30.0</td>\n",
       "      <td>Loan originated</td>\n",
       "    </tr>\n",
       "    <tr>\n",
       "      <th>3</th>\n",
       "      <td>55025012700</td>\n",
       "      <td>Dane</td>\n",
       "      <td>None</td>\n",
       "      <td>Single Family (1-4 Units):Site-Built</td>\n",
       "      <td>1645.0</td>\n",
       "      <td>3.25</td>\n",
       "      <td>30.0</td>\n",
       "      <td>Loan originated</td>\n",
       "    </tr>\n",
       "    <tr>\n",
       "      <th>4</th>\n",
       "      <td>55079014300</td>\n",
       "      <td>Milwaukee</td>\n",
       "      <td>None</td>\n",
       "      <td>Single Family (1-4 Units):Site-Built</td>\n",
       "      <td>1585.0</td>\n",
       "      <td>2.625</td>\n",
       "      <td>15.0</td>\n",
       "      <td>Loan originated</td>\n",
       "    </tr>\n",
       "    <tr>\n",
       "      <th>5</th>\n",
       "      <td>55127000302</td>\n",
       "      <td>Walworth</td>\n",
       "      <td>Home purchase</td>\n",
       "      <td>Single Family (1-4 Units):Site-Built</td>\n",
       "      <td>1545.0</td>\n",
       "      <td>1.875</td>\n",
       "      <td>30.0</td>\n",
       "      <td>Loan originated</td>\n",
       "    </tr>\n",
       "    <tr>\n",
       "      <th>6</th>\n",
       "      <td>55089660304</td>\n",
       "      <td>Ozaukee</td>\n",
       "      <td>None</td>\n",
       "      <td>Single Family (1-4 Units):Site-Built</td>\n",
       "      <td>1465.0</td>\n",
       "      <td>2.75</td>\n",
       "      <td>30.0</td>\n",
       "      <td>Loan originated</td>\n",
       "    </tr>\n",
       "    <tr>\n",
       "      <th>7</th>\n",
       "      <td>55089660303</td>\n",
       "      <td>Ozaukee</td>\n",
       "      <td>None</td>\n",
       "      <td>Single Family (1-4 Units):Site-Built</td>\n",
       "      <td>1455.0</td>\n",
       "      <td>3.0</td>\n",
       "      <td>30.0</td>\n",
       "      <td>Loan originated</td>\n",
       "    </tr>\n",
       "    <tr>\n",
       "      <th>8</th>\n",
       "      <td>55079070200</td>\n",
       "      <td>Milwaukee</td>\n",
       "      <td>None</td>\n",
       "      <td>Single Family (1-4 Units):Site-Built</td>\n",
       "      <td>1405.0</td>\n",
       "      <td>2.875</td>\n",
       "      <td>30.0</td>\n",
       "      <td>Loan originated</td>\n",
       "    </tr>\n",
       "    <tr>\n",
       "      <th>9</th>\n",
       "      <td>55125950600</td>\n",
       "      <td>Vilas</td>\n",
       "      <td>None</td>\n",
       "      <td>Single Family (1-4 Units):Site-Built</td>\n",
       "      <td>1325.0</td>\n",
       "      <td>2.5</td>\n",
       "      <td>30.0</td>\n",
       "      <td>Loan originated</td>\n",
       "    </tr>\n",
       "  </tbody>\n",
       "</table>\n",
       "</div>"
      ],
      "text/plain": [
       "  census_tract     county   loan_purpose  \\\n",
       "0  55085971300     Oneida           None   \n",
       "1  55063000400  La Crosse           None   \n",
       "2  55007960600   Bayfield           None   \n",
       "3  55025012700       Dane           None   \n",
       "4  55079014300  Milwaukee           None   \n",
       "5  55127000302   Walworth  Home purchase   \n",
       "6  55089660304    Ozaukee           None   \n",
       "7  55089660303    Ozaukee           None   \n",
       "8  55079070200  Milwaukee           None   \n",
       "9  55125950600      Vilas           None   \n",
       "\n",
       "              derived_dwelling_category  thousands interest_rate  years  \\\n",
       "0  Single Family (1-4 Units):Site-Built     3005.0         2.375   15.0   \n",
       "1                Multifamily:Site-Built     2405.0           3.6   10.0   \n",
       "2  Single Family (1-4 Units):Site-Built     1655.0         2.375   30.0   \n",
       "3  Single Family (1-4 Units):Site-Built     1645.0          3.25   30.0   \n",
       "4  Single Family (1-4 Units):Site-Built     1585.0         2.625   15.0   \n",
       "5  Single Family (1-4 Units):Site-Built     1545.0         1.875   30.0   \n",
       "6  Single Family (1-4 Units):Site-Built     1465.0          2.75   30.0   \n",
       "7  Single Family (1-4 Units):Site-Built     1455.0           3.0   30.0   \n",
       "8  Single Family (1-4 Units):Site-Built     1405.0         2.875   30.0   \n",
       "9  Single Family (1-4 Units):Site-Built     1325.0           2.5   30.0   \n",
       "\n",
       "      action_taken  \n",
       "0  Loan originated  \n",
       "1  Loan originated  \n",
       "2  Loan originated  \n",
       "3  Loan originated  \n",
       "4  Loan originated  \n",
       "5  Loan originated  \n",
       "6  Loan originated  \n",
       "7  Loan originated  \n",
       "8  Loan originated  \n",
       "9  Loan originated  "
      ]
     },
     "execution_count": 13,
     "metadata": {},
     "output_type": "execute_result"
    }
   ],
   "source": [
    "#Q5: what are the top 10 biggest loans (in terms of loan_amount) that were approved by your favorite bank?\n",
    "\n",
    "banks = spark.table(\"banks\")\n",
    "loans = spark.table(\"loans\")\n",
    "action_taken = spark.table(\"action_taken\")\n",
    "loan_purpose = spark.table(\"loan_purpose\")\n",
    "counties = spark.table(\"counties\")\n",
    "\n",
    "#separate loans table county_code into state and county columns and create dataframe\n",
    "loans_county_code_separated = (loans\n",
    "         .withColumn(\"state\", expr(\"substring(county_code, 0, 2)\"))\n",
    "         .withColumn(\"state\", col(\"state\").cast(\"Int\"))\n",
    "         .withColumn(\"county\", expr(\"substring(county_code, 3)\"))\n",
    "         .withColumn(\"county\", col(\"county\").cast(\"Int\"))\n",
    ")\n",
    "#create distinct counties dataframe\n",
    "distinct_counties = (counties\n",
    "                     .distinct()\n",
    "                     .withColumn(\"state\", col(\"state\").cast(\"Int\"))\n",
    "                     .withColumn(\"county\", col(\"county\").cast(\"Int\"))\n",
    "                    )\n",
    "#left join loans and counties\n",
    "cond = (\n",
    "    [loans_county_code_separated[\"state\"] == distinct_counties[\"state\"], \n",
    "     loans_county_code_separated[\"county\"] == distinct_counties[\"county\"]]\n",
    ")\n",
    "loans_leftjoin_counties = (loans_county_code_separated\n",
    "                           .join(distinct_counties.select(\"name\", \"state\", \"county\"), cond, how=\"left\")\n",
    "                          )\n",
    "\n",
    "#FAILED CODE FOR REFERENCE ONLY: TRIED TO COMBINE STATE AND COUNTY CODES IN COUNTIES TABLE\n",
    "#combine state and county into county code\n",
    "# distinct_county_codes = (\n",
    "#     counties\n",
    "#     .distinct()\n",
    "#     .withColumn(\"COUNTY_CODE1\", expr(\"STATE || COUNTY\"))\n",
    "#     .withColumn(\"COUNTY_CODE1\",col(\"COUNTY_CODE1\")\n",
    "#                 .cast(\"Int\"))\n",
    "#     .withColumn(\"COUNTY_CODE2\", expr(\"STATE ||'0'|| COUNTY\"))\n",
    "#     .withColumn(\"COUNTY_CODE2\",col(\"COUNTY_CODE2\")\n",
    "#                 .cast(\"Int\"))\n",
    "# )\n",
    "\n",
    "\n",
    "#left join loans & action taken\n",
    "loans_counties_action = (\n",
    "    loans_leftjoin_counties\n",
    "    .join(action_taken, on=loans_leftjoin_counties[\"action_taken\"] == action_taken[\"id\"], how=\"left\")\n",
    "                        )\n",
    "#left join loans & loan_purpose\n",
    "loans_counties_action_purpose = (\n",
    "    loans_counties_action\n",
    "    .join(loan_purpose, on=loans_counties_action[\"loan_purpose\"] == loan_purpose[\"id\"], how=\"left\")\n",
    "                                )\n",
    "#inner join banks & loans failed attempts \n",
    "#FAILED CODE: CONDITION LIST IS 'AND' CONDITION BY DEFAULT\n",
    "# cond = (\n",
    "#      banks[\"lei_2018\"] == loans_counties_action_purpose[\"lei\"] | \\\n",
    "#      banks[\"lei_2019\"] == loans_counties_action_purpose[\"lei\"] | \\\n",
    "#      banks[\"lei_2020\"] == loans_counties_action_purpose[\"lei\"]\n",
    "#        )\n",
    "\n",
    "#FAILED CODE: OR '|' NOT COMPATIBLE WITH CONDITION LIST \n",
    "# main = banks.join( \\\n",
    "#     loans_counties_action_purpose,                                  \\\n",
    "#     banks[\"lei_2018\"] == loans_counties_action_purpose[\"lei\"] |     \\\n",
    "#         banks[\"lei_2019\"] == loans_counties_action_purpose[\"lei\"] | \\\n",
    "#         banks[\"lei_2020\"] == loans_counties_action_purpose[\"lei\"],  \\\n",
    "#     how=\"left\")\n",
    "\n",
    "#FAILED CODE: RUNS, BUT OR OPERATION IS SO EXPENSIVE THAT THE TIME IT TAKES IS UNNACCEPTABLE AND THUS CAUSES A TIMEOUT ERROR\n",
    "# main = banks.join( \\\n",
    "#     loans_counties_action_purpose,                                  \\\n",
    "#         (banks[\"lei_2020\"] == loans_counties_action_purpose[\"lei\"]) | (banks[\"lei_2019\"] == loans_counties_action_purpose[\"lei\"]) | (banks[\"lei_2018\"] == loans_counties_action_purpose[\"lei\"]),  \\\n",
    "#     how=\"left\")\n",
    "\n",
    "#inner join banks and loans\n",
    "main = banks.join( \\\n",
    "    loans_counties_action_purpose,                                  \\\n",
    "        (banks[\"lei_2020\"] == loans_counties_action_purpose[\"lei\"]),  \\\n",
    "    how=\"inner\")\n",
    "\n",
    "#grab required columns and top 10 approved loans for wells fargo\n",
    "df = (\n",
    "    main.select(\n",
    "        \"census_tract\",\n",
    "        expr(\"name\").alias(\"county\"),\n",
    "        \"loan_purpose.loan_purpose\", \n",
    "        \"derived_dwelling_category\",\n",
    "        expr(\"loan_amount / 1000\").alias(\"thousands\"),\n",
    "        \"interest_rate\",\n",
    "        expr(\"loan_term / 12\").alias(\"years\"),\n",
    "        \"action_taken.action_taken\")\n",
    "    .where(\"respondent_name LIKE '%Wells Fargo%'\")\n",
    "     )\n",
    "df.orderBy(\"loan_amount\",ascending=False).where(df[\"action_taken\"] == \"Loan originated\").limit(10).toPandas()"
   ]
  },
  {
   "cell_type": "code",
   "execution_count": 14,
   "id": "3529f111-c27c-4b88-b031-75b2d44daf80",
   "metadata": {},
   "outputs": [],
   "source": [
    "#Part 3: GROUPY BY and Windowing"
   ]
  },
  {
   "cell_type": "code",
   "execution_count": 26,
   "id": "5bbccee3-d933-4d11-9677-7ca1c5037ad1",
   "metadata": {},
   "outputs": [
    {
     "name": "stdout",
     "output_type": "stream",
     "text": [
      "== Physical Plan ==\n",
      "AdaptiveSparkPlan (5)\n",
      "+- HashAggregate (4)\n",
      "   +- HashAggregate (3)\n",
      "      +- Project (2)\n",
      "         +- Scan parquet default.loans (1)\n",
      "\n",
      "\n",
      "(1) Scan parquet default.loans\n",
      "Output [4]: [county_code#1117, loan_amount#1134, interest_rate#1136, loan_term#1144]\n",
      "Batched: true\n",
      "Location: InMemoryFileIndex [hdfs://main:9000/user/hive/warehouse/loans]\n",
      "ReadSchema: struct<county_code:string,loan_amount:double,interest_rate:string,loan_term:string>\n",
      "SelectedBucketsCount: 8 out of 8\n",
      "\n",
      "(2) Project\n",
      "Output [4]: [county_code#1117, loan_amount#1134, cast(interest_rate#1136 as double) AS interest_rate#5383, cast(loan_term#1144 as int) AS loan_term#5384]\n",
      "Input [4]: [county_code#1117, loan_amount#1134, interest_rate#1136, loan_term#1144]\n",
      "\n",
      "(3) HashAggregate\n",
      "Input [4]: [county_code#1117, loan_amount#1134, interest_rate#5383, loan_term#5384]\n",
      "Keys [1]: [county_code#1117]\n",
      "Functions [3]: [partial_avg(loan_amount#1134), partial_avg(interest_rate#5383), partial_avg(loan_term#5384)]\n",
      "Aggregate Attributes [6]: [sum#5405, count#5406L, sum#5407, count#5408L, sum#5409, count#5410L]\n",
      "Results [7]: [county_code#1117, sum#5411, count#5412L, sum#5413, count#5414L, sum#5415, count#5416L]\n",
      "\n",
      "(4) HashAggregate\n",
      "Input [7]: [county_code#1117, sum#5411, count#5412L, sum#5413, count#5414L, sum#5415, count#5416L]\n",
      "Keys [1]: [county_code#1117]\n",
      "Functions [3]: [avg(loan_amount#1134), avg(interest_rate#5383), avg(loan_term#5384)]\n",
      "Aggregate Attributes [3]: [avg(loan_amount#1134)#5395, avg(interest_rate#5383)#5396, avg(loan_term#5384)#5397]\n",
      "Results [4]: [county_code#1117, avg(loan_amount#1134)#5395 AS avg(loan_amount)#5398, avg(interest_rate#5383)#5396 AS avg(interest_rate)#5399, avg(loan_term#5384)#5397 AS avg(loan_term)#5400]\n",
      "\n",
      "(5) AdaptiveSparkPlan\n",
      "Output [4]: [county_code#1117, avg(loan_amount)#5398, avg(interest_rate)#5399, avg(loan_term)#5400]\n",
      "Arguments: isFinalPlan=false\n",
      "\n",
      "\n"
     ]
    }
   ],
   "source": [
    "#Q6: when computing a MEAN aggregate per group of loans, when do we require network I/O between the partial_mean and mean \n",
    "#operations?\n",
    "\n",
    "#for mean aggegate on the county_code column no network I/O was required, but for mean aggegate on the lei column an Exchange operation occurs\n",
    "#requiring network I/O\n",
    "\n",
    "\n",
    "meanAgg_county = (spark.table(\"loans\")\n",
    "           .select(\"county_code\", \"lei\",\"loan_amount\", col(\"interest_rate\").cast(\"Double\"), col(\"loan_term\").cast(\"Int\"))\n",
    "           .groupby(\"county_code\")\n",
    "           .mean(\"loan_amount\", \"interest_rate\", \"loan_term\")\n",
    "          )\n",
    "meanAgg_county.explain(\"formatted\")"
   ]
  },
  {
   "cell_type": "code",
   "execution_count": 27,
   "id": "91502518-df07-48db-8d9b-c0878114b8a2",
   "metadata": {},
   "outputs": [
    {
     "name": "stdout",
     "output_type": "stream",
     "text": [
      "== Physical Plan ==\n",
      "AdaptiveSparkPlan (6)\n",
      "+- HashAggregate (5)\n",
      "   +- Exchange (4)\n",
      "      +- HashAggregate (3)\n",
      "         +- Project (2)\n",
      "            +- Scan parquet default.loans (1)\n",
      "\n",
      "\n",
      "(1) Scan parquet default.loans\n",
      "Output [4]: [lei#1114, loan_amount#1134, interest_rate#1136, loan_term#1144]\n",
      "Batched: true\n",
      "Location: InMemoryFileIndex [hdfs://main:9000/user/hive/warehouse/loans]\n",
      "ReadSchema: struct<lei:string,loan_amount:double,interest_rate:string,loan_term:string>\n",
      "\n",
      "(2) Project\n",
      "Output [4]: [lei#1114, loan_amount#1134, cast(interest_rate#1136 as double) AS interest_rate#5516, cast(loan_term#1144 as int) AS loan_term#5517]\n",
      "Input [4]: [lei#1114, loan_amount#1134, interest_rate#1136, loan_term#1144]\n",
      "\n",
      "(3) HashAggregate\n",
      "Input [4]: [lei#1114, loan_amount#1134, interest_rate#5516, loan_term#5517]\n",
      "Keys [1]: [lei#1114]\n",
      "Functions [3]: [partial_avg(loan_amount#1134), partial_avg(interest_rate#5516), partial_avg(loan_term#5517)]\n",
      "Aggregate Attributes [6]: [sum#5538, count#5539L, sum#5540, count#5541L, sum#5542, count#5543L]\n",
      "Results [7]: [lei#1114, sum#5544, count#5545L, sum#5546, count#5547L, sum#5548, count#5549L]\n",
      "\n",
      "(4) Exchange\n",
      "Input [7]: [lei#1114, sum#5544, count#5545L, sum#5546, count#5547L, sum#5548, count#5549L]\n",
      "Arguments: hashpartitioning(lei#1114, 200), ENSURE_REQUIREMENTS, [plan_id=3736]\n",
      "\n",
      "(5) HashAggregate\n",
      "Input [7]: [lei#1114, sum#5544, count#5545L, sum#5546, count#5547L, sum#5548, count#5549L]\n",
      "Keys [1]: [lei#1114]\n",
      "Functions [3]: [avg(loan_amount#1134), avg(interest_rate#5516), avg(loan_term#5517)]\n",
      "Aggregate Attributes [3]: [avg(loan_amount#1134)#5528, avg(interest_rate#5516)#5529, avg(loan_term#5517)#5530]\n",
      "Results [4]: [lei#1114, avg(loan_amount#1134)#5528 AS avg(loan_amount)#5531, avg(interest_rate#5516)#5529 AS avg(interest_rate)#5532, avg(loan_term#5517)#5530 AS avg(loan_term)#5533]\n",
      "\n",
      "(6) AdaptiveSparkPlan\n",
      "Output [4]: [lei#1114, avg(loan_amount)#5531, avg(interest_rate)#5532, avg(loan_term)#5533]\n",
      "Arguments: isFinalPlan=false\n",
      "\n",
      "\n"
     ]
    }
   ],
   "source": [
    "#Q6: when computing a MEAN aggregate per group of loans, when do we require network I/O between the partial_mean and mean \n",
    "#operations?\n",
    "\n",
    "meanAgg_lei = (spark.table(\"loans\")\n",
    "           .select(\"county_code\", \"lei\",\"loan_amount\", col(\"interest_rate\").cast(\"Double\"), col(\"loan_term\").cast(\"Int\"))\n",
    "           .groupby(\"lei\")\n",
    "           .mean(\"loan_amount\", \"interest_rate\", \"loan_term\")\n",
    "          )\n",
    "meanAgg_lei.explain(\"formatted\")"
   ]
  },
  {
   "cell_type": "code",
   "execution_count": 16,
   "id": "af9cb5b3-3278-4c31-b165-0f4ba4e05d61",
   "metadata": {},
   "outputs": [
    {
     "name": "stderr",
     "output_type": "stream",
     "text": [
      "                                                                                \r"
     ]
    },
    {
     "data": {
      "text/plain": [
       "<Axes: xlabel='name', ylabel='Average Interest Rate'>"
      ]
     },
     "execution_count": 16,
     "metadata": {},
     "output_type": "execute_result"
    },
    {
     "data": {
      "image/png": "[encoded data removed]",
      "text/plain": [
       "<Figure size 640x480 with 1 Axes>"
      ]
     },
     "metadata": {},
     "output_type": "display_data"
    }
   ],
   "source": [
    "#Q7: what are the average interest rates for Wells Fargo applications for the ten counties where Wells Fargo receives the \n",
    "#most applications?\n",
    "\n",
    "main = main.withColumn(\"interest_rate\", col(\"interest_rate\").cast(\"Double\"))\n",
    "\n",
    "answer = (main\n",
    "          .select(\"respondent_name\", \"interest_rate\", expr(\"name\"))\n",
    "          .where(\"respondent_name LIKE '%Wells Fargo%'\")\n",
    "          .groupby(\"name\")\n",
    "          .agg(expr(\"COUNT(name)\").alias(\"application_count\"), expr(\"AVG(interest_rate)\").alias(\"avg_interest_rate\"))\n",
    "          .orderBy(\"application_count\", ascending=False)\n",
    ")\n",
    "df = answer.limit(10).toPandas()\n",
    "\n",
    "df = df.drop(columns=\"application_count\")\n",
    "df.set_index(\"name\").plot.bar(legend=None, ylabel=\"Average Interest Rate\")"
   ]
  },
  {
   "cell_type": "code",
   "execution_count": 17,
   "id": "bb2560a8-e1d8-4bcb-8f54-5dc0eec1bd6a",
   "metadata": {},
   "outputs": [
    {
     "name": "stderr",
     "output_type": "stream",
     "text": [
      "                                                                                \r"
     ]
    },
    {
     "data": {
      "text/plain": [
       "<Axes: xlabel='name', ylabel='2nd Biggest Loan Application (Millions $)'>"
      ]
     },
     "execution_count": 17,
     "metadata": {},
     "output_type": "execute_result"
    },
    {
     "data": {
      "image/png": "[encoded data removed]",
      "text/plain": [
       "<Figure size 640x480 with 1 Axes>"
      ]
     },
     "metadata": {},
     "output_type": "display_data"
    }
   ],
   "source": [
    "#Q8: what is the second biggest loan application amount in each county? (answer for top 10 counties)\n",
    "#main_noDupliates = main.dropDuplicates()\n",
    "\n",
    "cond = (\n",
    "    [loans_county_code_separated[\"state\"] == distinct_counties[\"state\"], \n",
    "     loans_county_code_separated[\"county\"] == distinct_counties[\"county\"]]\n",
    ")\n",
    "\n",
    "loans_innerjoin_counties = loans_county_code_separated.join(distinct_counties.select(\"name\", \"state\", \"county\"), cond, how=\"inner\")\n",
    "\n",
    "answer = (loans_innerjoin_counties\n",
    "        .dropDuplicates()\n",
    "        .select(\"name\", \"loan_amount\", expr(\"row_number() OVER(PARTITION BY name ORDER BY loan_amount DESC) AS rank\"))\n",
    ").select(\"*\").where(\"name != 'None' AND rank == 2\").orderBy(\"loan_amount\", ascending=False).limit(10)\n",
    "\n",
    "df = answer.toPandas()\n",
    "df = df.drop(columns=\"rank\")\n",
    "df.set_index(\"name\").plot.bar(legend=None, ylabel=\"2nd Biggest Loan Application (Millions $)\")"
   ]
  },
  {
   "cell_type": "code",
   "execution_count": 18,
   "id": "33ec07bc-56d5-4510-878a-4a2748d5686d",
   "metadata": {},
   "outputs": [],
   "source": [
    "#Part 4: Caching\n",
    "\n",
    "df = spark.sql(\"\"\"\n",
    "    SELECT interest_rate\n",
    "    FROM banks\n",
    "    INNER JOIN loans\n",
    "    ON banks.lei_2020 = loans.lei \n",
    "    WHERE banks.respondent_name = 'Wells Fargo Bank, National Association'\n",
    "\"\"\")"
   ]
  },
  {
   "cell_type": "code",
   "execution_count": 19,
   "id": "c14678cb-d7fa-4875-8ac0-78dc9b042886",
   "metadata": {},
   "outputs": [
    {
     "name": "stderr",
     "output_type": "stream",
     "text": [
      "                                                                                \r"
     ]
    },
    {
     "data": {
      "image/png": "[encoded data removed]",
      "text/plain": [
       "<Figure size 640x480 with 1 Axes>"
      ]
     },
     "metadata": {},
     "output_type": "display_data"
    }
   ],
   "source": [
    "#Q9: what is the cost of caching and the impact on subsequent queries?\n",
    "\n",
    "q9_a = {}\n",
    "q9_b = {}\n",
    "for i in range(10):\n",
    "    if i < 5:\n",
    "        t0 = time.time()\n",
    "        df.count()\n",
    "        t1 = time.time()\n",
    "        q9_a[i] = (t1-t0)*1000\n",
    "        if i == 4:\n",
    "            df.cache()\n",
    "    else:\n",
    "        t0 = time.time()\n",
    "        df.count()\n",
    "        t1 = time.time()\n",
    "        q9_b[i] = (t1-t0)*1000\n",
    "df.unpersist() \n",
    "\n",
    "plt.plot(q9_a.keys(), q9_a.values(), c='blue', label=\"No Caching\")\n",
    "plt.plot(q9_b.keys(),q9_b.values(), c='orange', label=\"Caching\")\n",
    "plt.legend()\n",
    "plt.xlabel(\"Query Number\")\n",
    "plt.ylabel(\"Milliseconds\")\n",
    "plt.show()"
   ]
  },
  {
   "cell_type": "code",
   "execution_count": 20,
   "id": "712d4537-c755-4631-9c6f-c25c162d5825",
   "metadata": {},
   "outputs": [
    {
     "name": "stdout",
     "output_type": "stream",
     "text": [
      "numPartitions 2 not 1, repartitioning...\n"
     ]
    },
    {
     "name": "stderr",
     "output_type": "stream",
     "text": [
      "[Stage 117:>                                                        (0 + 2) / 2]\r"
     ]
    },
    {
     "name": "stdout",
     "output_type": "stream",
     "text": [
      "partitions: 1\n"
     ]
    },
    {
     "name": "stderr",
     "output_type": "stream",
     "text": [
      "                                                                                \r"
     ]
    },
    {
     "data": {
      "image/png": "[encoded data removed]",
      "text/plain": [
       "<Figure size 640x480 with 1 Axes>"
      ]
     },
     "metadata": {},
     "output_type": "display_data"
    }
   ],
   "source": [
    "#Q10: what is the impact of caching a single partition on load balance?\n",
    "\n",
    "numPartitions = df.rdd.getNumPartitions()\n",
    "if numPartitions != 1:\n",
    "    df = df.repartition(1)\n",
    "    print(f\"numPartitions {numPartitions} not 1, repartitioning...\")\n",
    "print(f\"partitions: {df.rdd.getNumPartitions()}\")\n",
    "df.cache()\n",
    "\n",
    "response = json.loads(requests.get(\"http://localhost:4040/api/v1/applications\").text)\n",
    "app_id = response[0][\"id\"]\n",
    "\n",
    "q10_a = {}\n",
    "q10_b = {}\n",
    "for i in range(10):\n",
    "    df.count()\n",
    "    response = json.loads(requests.get(f\"http://localhost:4040/api/v1/applications/{app_id}/executors\").text)\n",
    "    q10_a[i] = response[1][\"totalTasks\"]\n",
    "    q10_b[i] = response[2][\"totalTasks\"]\n",
    "df.unpersist()\n",
    "\n",
    "plt.close()\n",
    "plt.plot(q10_a.keys(), q10_a.values(), c='blue', label= \"worker0\")\n",
    "plt.plot(q10_b.keys(), q10_b.values(), c='orange', label=\"worker1\")\n",
    "plt.legend()\n",
    "plt.xlabel(\"Query Number\")\n",
    "plt.ylabel(\"Task Count\")\n",
    "plt.show()"
   ]
  }
 ],
 "metadata": {
  "kernelspec": {
   "display_name": "Python 3 (ipykernel)",
   "language": "python",
   "name": "python3"
  },
  "language_info": {
   "codemirror_mode": {
    "name": "ipython",
    "version": 3
   },
   "file_extension": ".py",
   "mimetype": "text/x-python",
   "name": "python",
   "nbconvert_exporter": "python",
   "pygments_lexer": "ipython3",
   "version": "3.10.6"
  }
 },
 "nbformat": 4,
 "nbformat_minor": 5
}
