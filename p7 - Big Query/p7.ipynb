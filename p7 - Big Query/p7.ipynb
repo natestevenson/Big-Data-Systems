{
 "cells": [
  {
   "cell_type": "code",
   "execution_count": 1,
   "id": "34c03c4b-8202-4468-93bb-9fa4c1ac26d2",
   "metadata": {
    "tags": []
   },
   "outputs": [],
   "source": [
    "import os"
   ]
  },
  {
   "cell_type": "code",
   "execution_count": 2,
   "id": "b2de180f-a590-4983-8dc6-e5079b8dee03",
   "metadata": {
    "tags": []
   },
   "outputs": [],
   "source": [
    "from google.cloud import bigquery\n",
    "bq = bigquery.Client(project=\"cs544-spring2023\")\n",
    "no_cache = bigquery.QueryJobConfig(use_query_cache=False)"
   ]
  },
  {
   "cell_type": "code",
   "execution_count": 3,
   "id": "dd7c49c7-fa6c-4a8b-b63b-157a775c5514",
   "metadata": {
    "tags": []
   },
   "outputs": [],
   "source": [
    "%load_ext google.cloud.bigquery"
   ]
  },
  {
   "cell_type": "code",
   "execution_count": 4,
   "id": "9dfb8422-fd49-465f-8bef-9a21524ec17d",
   "metadata": {
    "tags": []
   },
   "outputs": [],
   "source": [
    "# %%bigquery\n",
    "# SELECT *\n",
    "# FROM bigquery-public-data.geo_us_boundaries.counties\n",
    "# LIMIT 5"
   ]
  },
  {
   "cell_type": "code",
   "execution_count": 5,
   "id": "0ee40b41-ff23-4258-b3e2-aec0969c1430",
   "metadata": {},
   "outputs": [],
   "source": [
    "#Part 1: County Data (Public Dataset)"
   ]
  },
  {
   "cell_type": "code",
   "execution_count": 6,
   "id": "490def0e-9c01-4c90-8729-702aa2ca6d07",
   "metadata": {
    "tags": []
   },
   "outputs": [
    {
     "data": {
      "text/plain": [
       "'55025'"
      ]
     },
     "execution_count": 6,
     "metadata": {},
     "output_type": "execute_result"
    }
   ],
   "source": [
    "#q1 what is the geo_id for Dane county? (note that Madison is in Dane county).\n",
    "q = bq.query(\"\"\"\n",
    "SELECT geo_id, county_name\n",
    "FROM bigquery-public-data.geo_us_boundaries.counties\n",
    "WHERE (state_fips_code = '55') AND (county_name LIKE 'Dane') --55 is WI\n",
    "\"\"\", job_config=no_cache)\n",
    "q.to_dataframe().loc[0][0]"
   ]
  },
  {
   "cell_type": "code",
   "execution_count": 7,
   "id": "d5361c6c-ecca-4b66-b2fb-3336a564fff8",
   "metadata": {
    "tags": []
   },
   "outputs": [
    {
     "data": {
      "text/plain": [
       "{'48': 254, '13': 159, '51': 133, '21': 120, '29': 115}"
      ]
     },
     "execution_count": 7,
     "metadata": {},
     "output_type": "execute_result"
    }
   ],
   "source": [
    "#Q2 how many counties are there per state?\n",
    "p = bq.query(\"\"\"\n",
    "SELECT state_fips_code, COUNT(county_fips_code) AS count\n",
    "FROM bigquery-public-data.geo_us_boundaries.counties\n",
    "GROUP BY state_fips_code\n",
    "ORDER BY count DESC\n",
    "LIMIT 5\n",
    "\"\"\", job_config=no_cache)\n",
    "p.to_dataframe().set_index(\"state_fips_code\").to_dict()[\"count\"]"
   ]
  },
  {
   "cell_type": "code",
   "execution_count": 8,
   "id": "3f9699db-50c0-4e6c-a7bf-5f5bd9874b15",
   "metadata": {
    "tags": []
   },
   "outputs": [
    {
     "data": {
      "text/plain": [
       "{'q1': 0.00476837158203125, 'q2': 0.00476837158203125}"
      ]
     },
     "execution_count": 8,
     "metadata": {},
     "output_type": "execute_result"
    }
   ],
   "source": [
    "#q3 about how much should the queries for the last two questions cost?\n",
    "q3 = {}\n",
    "q3['q1'] = ((q.total_bytes_billed / 1024**4) * 500)\n",
    "q3['q2'] = ((p.total_bytes_billed / 1024**4) * 500)\n",
    "q3"
   ]
  },
  {
   "cell_type": "code",
   "execution_count": 9,
   "id": "0665dcd7-d6a0-4dca-9f83-6e83c9e384df",
   "metadata": {},
   "outputs": [],
   "source": [
    "#Part 2: HDMA Data (Parquet in GCS)"
   ]
  },
  {
   "cell_type": "code",
   "execution_count": 10,
   "id": "2a2da077-e345-4c01-a138-5509a9f735ca",
   "metadata": {
    "tags": []
   },
   "outputs": [
    {
     "name": "stdout",
     "output_type": "stream",
     "text": [
      "hdma-wi-2021.parquet already downloaded\n"
     ]
    }
   ],
   "source": [
    "if not os.path.exists(\"hdma-wi-2021.parquet\"):\n",
    "    !wget https://pages.cs.wisc.edu/~harter/cs639/data/hdma-wi-2021.parquet\n",
    "else:\n",
    "    print(\"hdma-wi-2021.parquet already downloaded\")"
   ]
  },
  {
   "cell_type": "code",
   "execution_count": 11,
   "id": "13f0e0bf-faf8-46f7-8a99-ceb93a164372",
   "metadata": {},
   "outputs": [
    {
     "data": {
      "text/plain": [
       "Dataset(DatasetReference('cs544-spring2023', 'p7'))"
      ]
     },
     "execution_count": 11,
     "metadata": {},
     "output_type": "execute_result"
    }
   ],
   "source": [
    "# project.dataset.table\n",
    "dataset = bigquery.Dataset(\"cs544-spring2023.p7\")\n",
    "bq.create_dataset(dataset, exists_ok=True)"
   ]
  },
  {
   "cell_type": "code",
   "execution_count": 12,
   "id": "9de40da3-e2f2-4482-8349-7841c85ea1b8",
   "metadata": {},
   "outputs": [
    {
     "data": {
      "text/plain": [
       "LoadJob<project=cs544-spring2023, location=US, id=7da8e8d0-c231-4c48-81cf-6b1488e6f65e>"
      ]
     },
     "execution_count": 12,
     "metadata": {},
     "output_type": "execute_result"
    }
   ],
   "source": [
    "config = bigquery.LoadJobConfig(source_format=\"PARQUET\", write_disposition=\"WRITE_TRUNCATE\")\n",
    "job = bq.load_table_from_uri([\"gs://may4/hdma-wi-2021.parquet\"],\n",
    "                             \"cs544-spring2023.p7.hdma\", job_config=config)\n",
    "job.result()"
   ]
  },
  {
   "cell_type": "code",
   "execution_count": 13,
   "id": "d3285217-1d8b-4c6a-bb10-fcf5149e9d6e",
   "metadata": {
    "tags": []
   },
   "outputs": [
    {
     "data": {
      "text/plain": [
       "['p7']"
      ]
     },
     "execution_count": 13,
     "metadata": {},
     "output_type": "execute_result"
    }
   ],
   "source": [
    "#q4  what are the datasets in your GCP project?\n",
    "[ds.dataset_id for ds in bq.list_datasets(\"cs544-spring2023\")] # PASTE project name"
   ]
  },
  {
   "cell_type": "code",
   "execution_count": 14,
   "id": "37b29d84-1540-4872-89f6-e1e601c633b6",
   "metadata": {
    "tags": []
   },
   "outputs": [
    {
     "data": {
      "text/plain": [
       "{'Milwaukee': 46570,\n",
       " 'Dane': 38557,\n",
       " 'Waukesha': 34159,\n",
       " 'Brown': 15615,\n",
       " 'Racine': 13007,\n",
       " 'Outagamie': 11523,\n",
       " 'Kenosha': 10744,\n",
       " 'Washington': 10726,\n",
       " 'Rock': 9834,\n",
       " 'Winnebago': 9310}"
      ]
     },
     "execution_count": 14,
     "metadata": {},
     "output_type": "execute_result"
    }
   ],
   "source": [
    "#q5 how many loan applications are there in the HDMA data for each county?\n",
    "q = bq.query(\"\"\"\n",
    "SELECT L2.county_name, COUNT(L1) AS count\n",
    "FROM cs544-spring2023.p7.hdma AS L1\n",
    "    LEFT JOIN bigquery-public-data.geo_us_boundaries.counties AS L2\n",
    "    ON L1.county_code = L2.county_fips_code\n",
    "WHERE L1.county_code != 'None'\n",
    "GROUP BY L2.county_name\n",
    "ORDER BY count DESC\n",
    "LIMIT 10\n",
    "\"\"\")\n",
    "q.to_dataframe().set_index(\"county_name\").to_dict()[\"count\"]"
   ]
  },
  {
   "cell_type": "code",
   "execution_count": 15,
   "id": "45d461d3-8623-45a8-961f-441ed492f1f3",
   "metadata": {},
   "outputs": [],
   "source": [
    "#Part 3: Application Data (Google Sheet Linked to Form)"
   ]
  },
  {
   "cell_type": "code",
   "execution_count": 16,
   "id": "129e2a4d-196f-41b8-bfe6-51f68ac77ccb",
   "metadata": {
    "tags": []
   },
   "outputs": [],
   "source": [
    "url = \"https://drive.google.com/open?id=1e2qLPyxZ7s5ibMyEg7bxX2wWYAQD2ROAUcZuv8fqhnA\"\n",
    "\n",
    "external_config = bigquery.ExternalConfig(\"GOOGLE_SHEETS\")\n",
    "external_config.source_uris = [\"https://docs.google.com/spreadsheets/d/1e2qLPyxZ7s5ibMyEg7bxX2wWYAQD2ROAUcZuv8fqhnA/edit?pli=1#gid=2129344515\"]\n",
    "external_config.options.skip_leading_rows = 1\n",
    "external_config.autodetect = True\n",
    "\n",
    "table = bigquery.Table(dataset.table(\"applications\"))\n",
    "table.external_data_configuration = external_config\n",
    "\n",
    "table = bq.create_table(table, exists_ok=True)"
   ]
  },
  {
   "cell_type": "code",
   "execution_count": 17,
   "id": "5c192ef6-b24b-4031-b77e-5106ed90051f",
   "metadata": {},
   "outputs": [
    {
     "data": {
      "text/plain": [
       "5"
      ]
     },
     "execution_count": 17,
     "metadata": {},
     "output_type": "execute_result"
    }
   ],
   "source": [
    "#q6 how many applications are there with your chosen income?\n",
    "q = bq.query(\"\"\"\n",
    "SELECT COUNT(*) count\n",
    "FROM cs544-spring2023.p7.applications\n",
    "WHERE income = 80000\n",
    "ORDER BY count DESC\n",
    "\"\"\")\n",
    "q.to_dataframe().loc[0][0]"
   ]
  },
  {
   "cell_type": "code",
   "execution_count": 18,
   "id": "166211c3-d19e-485c-aa34-63fd978b4ef3",
   "metadata": {
    "tags": []
   },
   "outputs": [
    {
     "data": {
      "application/vnd.jupyter.widget-view+json": {
       "model_id": "b5836602945f491c8655c4356c961bcc",
       "version_major": 2,
       "version_minor": 0
      },
      "text/plain": [
       "Query is running:   0%|          |"
      ]
     },
     "metadata": {},
     "output_type": "display_data"
    },
    {
     "data": {
      "text/html": [
       "<div>\n",
       "<style scoped>\n",
       "    .dataframe tbody tr th:only-of-type {\n",
       "        vertical-align: middle;\n",
       "    }\n",
       "\n",
       "    .dataframe tbody tr th {\n",
       "        vertical-align: top;\n",
       "    }\n",
       "\n",
       "    .dataframe thead th {\n",
       "        text-align: right;\n",
       "    }\n",
       "</style>\n",
       "<table border=\"1\" class=\"dataframe\">\n",
       "  <thead>\n",
       "    <tr style=\"text-align: right;\">\n",
       "      <th></th>\n",
       "    </tr>\n",
       "  </thead>\n",
       "  <tbody>\n",
       "  </tbody>\n",
       "</table>\n",
       "</div>"
      ],
      "text/plain": [
       "Empty DataFrame\n",
       "Columns: []\n",
       "Index: []"
      ]
     },
     "execution_count": 18,
     "metadata": {},
     "output_type": "execute_result"
    }
   ],
   "source": [
    "%%bigquery\n",
    "CREATE OR REPLACE TABLE cs544-spring2023.p7.houses\n",
    "\n",
    "AS\n",
    "\n",
    "SELECT *, ST_GEOGPOINT(longitude, latitude) AS loc\n",
    "FROM cs544-spring2023.p7.applications"
   ]
  },
  {
   "cell_type": "code",
   "execution_count": 19,
   "id": "9567862c-e35b-4891-bbbe-3c14c5e403f9",
   "metadata": {
    "tags": []
   },
   "outputs": [
    {
     "data": {
      "text/plain": [
       "{'Dane': 30,\n",
       " 'Door': 5,\n",
       " 'Jefferson': 4,\n",
       " 'Brown': 3,\n",
       " 'Bayfield': 3,\n",
       " 'Milwaukee': 2,\n",
       " 'Columbia': 2,\n",
       " 'Walworth': 2,\n",
       " 'Sauk': 1,\n",
       " 'Ashland': 1,\n",
       " 'Green Lake': 1,\n",
       " 'La Crosse': 1,\n",
       " 'Barron': 1,\n",
       " 'Iowa': 1,\n",
       " 'Kewaunee': 1,\n",
       " 'Waukesha': 1,\n",
       " 'Adams': 1,\n",
       " 'Oneida': 1,\n",
       " 'Sheboygan': 1,\n",
       " 'Iron': 1,\n",
       " 'Monroe': 1}"
      ]
     },
     "execution_count": 19,
     "metadata": {},
     "output_type": "execute_result"
    }
   ],
   "source": [
    "#q7 how many applications are there in the Google sheet per WI county?\n",
    "q = bq.query(\"\"\"\n",
    "SELECT L2.county_name, COUNT(L1) AS count, \n",
    "FROM cs544-spring2023.p7.houses as L1\n",
    "    CROSS JOIN bigquery-public-data.geo_us_boundaries.counties as L2\n",
    "WHERE ST_WITHIN(L1.loc,L2.county_geom) AND (L2.state_fips_code = '55')\n",
    "GROUP BY county_name\n",
    "ORDER BY count DESC\n",
    "\"\"\")\n",
    "q.to_dataframe().set_index(\"county_name\").to_dict()[\"count\"]"
   ]
  },
  {
   "cell_type": "code",
   "execution_count": 20,
   "id": "aed1bf21-117f-4d83-b454-d9aeee032613",
   "metadata": {},
   "outputs": [],
   "source": [
    "#Part 4: Machine Learning"
   ]
  },
  {
   "cell_type": "code",
   "execution_count": 21,
   "id": "6620346e-9e9c-44ab-b307-f7506fdd1252",
   "metadata": {
    "tags": []
   },
   "outputs": [
    {
     "data": {
      "application/vnd.jupyter.widget-view+json": {
       "model_id": "49a78f15a0b146fc821a171b2de8b959",
       "version_major": 2,
       "version_minor": 0
      },
      "text/plain": [
       "Query is running:   0%|          |"
      ]
     },
     "metadata": {},
     "output_type": "display_data"
    },
    {
     "data": {
      "text/html": [
       "<div>\n",
       "<style scoped>\n",
       "    .dataframe tbody tr th:only-of-type {\n",
       "        vertical-align: middle;\n",
       "    }\n",
       "\n",
       "    .dataframe tbody tr th {\n",
       "        vertical-align: top;\n",
       "    }\n",
       "\n",
       "    .dataframe thead th {\n",
       "        text-align: right;\n",
       "    }\n",
       "</style>\n",
       "<table border=\"1\" class=\"dataframe\">\n",
       "  <thead>\n",
       "    <tr style=\"text-align: right;\">\n",
       "      <th></th>\n",
       "    </tr>\n",
       "  </thead>\n",
       "  <tbody>\n",
       "  </tbody>\n",
       "</table>\n",
       "</div>"
      ],
      "text/plain": [
       "Empty DataFrame\n",
       "Columns: []\n",
       "Index: []"
      ]
     },
     "execution_count": 21,
     "metadata": {},
     "output_type": "execute_result"
    }
   ],
   "source": [
    "%%bigquery\n",
    "CREATE OR REPLACE MODEL `cs544-spring2023.p7.m1`\n",
    "OPTIONS(model_type='LINEAR_REG', INPUT_LABEL_COLS=['loan_amount'])\n",
    "\n",
    "AS\n",
    "\n",
    "SELECT income, loan_term, loan_amount\n",
    "FROM `cs544-spring2023.p7.hdma`"
   ]
  },
  {
   "cell_type": "code",
   "execution_count": 22,
   "id": "eb2ead2f-55ab-415c-bfdf-01504e946ac1",
   "metadata": {
    "tags": []
   },
   "outputs": [
    {
     "data": {
      "application/vnd.jupyter.widget-view+json": {
       "model_id": "d263cc55c6e240e38db3b15baca80100",
       "version_major": 2,
       "version_minor": 0
      },
      "text/plain": [
       "Query is running:   0%|          |"
      ]
     },
     "metadata": {},
     "output_type": "display_data"
    },
    {
     "data": {
      "application/vnd.jupyter.widget-view+json": {
       "model_id": "1b6e87316acc435eb6ea0760bd65c260",
       "version_major": 2,
       "version_minor": 0
      },
      "text/plain": [
       "Downloading:   0%|          |"
      ]
     },
     "metadata": {},
     "output_type": "display_data"
    }
   ],
   "source": [
    "%%bigquery df\n",
    "SELECT * \n",
    "FROM\n",
    "ML.EVALUATE(\n",
    "    MODEL `cs544-spring2023.p7.m1`,\n",
    "    (\n",
    "        SELECT income, loan_term, loan_amount\n",
    "        FROM `cs544-spring2023.p7.hdma`\n",
    "    )\n",
    ")\n"
   ]
  },
  {
   "cell_type": "code",
   "execution_count": 23,
   "id": "dbf91f17-e36c-4559-ae5d-ea8d978db1bf",
   "metadata": {
    "tags": []
   },
   "outputs": [
    {
     "data": {
      "text/plain": [
       "0.29165412288020864"
      ]
     },
     "execution_count": 23,
     "metadata": {},
     "output_type": "execute_result"
    }
   ],
   "source": [
    "#q8 what is your model's r2_score on the HDMA dataset on which it was trained?\n",
    "df.iloc[0].at[\"r2_score\"]"
   ]
  },
  {
   "cell_type": "code",
   "execution_count": 24,
   "id": "0260cf8f-3018-4c73-b311-1331fd1c6396",
   "metadata": {
    "tags": []
   },
   "outputs": [
    {
     "data": {
      "application/vnd.jupyter.widget-view+json": {
       "model_id": "d2653eb854e9409d848ffb8a5c81d6b1",
       "version_major": 2,
       "version_minor": 0
      },
      "text/plain": [
       "Query is running:   0%|          |"
      ]
     },
     "metadata": {},
     "output_type": "display_data"
    },
    {
     "data": {
      "application/vnd.jupyter.widget-view+json": {
       "model_id": "79ec40ff9cb54e0495da8b4965051ca3",
       "version_major": 2,
       "version_minor": 0
      },
      "text/plain": [
       "Downloading:   0%|          |"
      ]
     },
     "metadata": {},
     "output_type": "display_data"
    }
   ],
   "source": [
    "%%bigquery df\n",
    "SELECT * \n",
    "FROM\n",
    "ML.WEIGHTS (MODEL `cs544-spring2023.p7.m1`)"
   ]
  },
  {
   "cell_type": "code",
   "execution_count": 25,
   "id": "a427513f-45a3-47a0-add9-195a2e431f8b",
   "metadata": {
    "tags": []
   },
   "outputs": [
    {
     "data": {
      "text/plain": [
       "0.8057773037176441"
      ]
     },
     "execution_count": 25,
     "metadata": {},
     "output_type": "execute_result"
    }
   ],
   "source": [
    "#q9 what is the coefficient weight on the income column?\n",
    "df[df[\"processed_input\"] == \"income\"][\"weight\"][0]"
   ]
  },
  {
   "cell_type": "code",
   "execution_count": 26,
   "id": "475d6ef0-299f-4224-a07b-9122a738aee8",
   "metadata": {
    "tags": []
   },
   "outputs": [
    {
     "data": {
      "text/plain": [
       "0.3593285349802225"
      ]
     },
     "execution_count": 26,
     "metadata": {},
     "output_type": "execute_result"
    }
   ],
   "source": [
    "#q10: what ratio of the loan applications in the Google form are for amounts greater than the model \n",
    "#would predict, given income?\n",
    "\n",
    "q = bq.query(\"\"\"\n",
    "SELECT SUM(Bigger) / COUNT(*) AS Ratio\n",
    "FROM(\n",
    "SELECT loan_amount, predicted_loan_amount, IF(loan_amount > predicted_loan_amount, 1, 0) AS Bigger\n",
    "FROM ML.PREDICT(\n",
    "    MODEL `cs544-spring2023.p7.m1`,\n",
    "    (\n",
    "        SELECT income, 360 AS loan_term, loan_amount\n",
    "        FROM `cs544-spring2023.p7.hdma`\n",
    "    )\n",
    "  )\n",
    ")\n",
    "\"\"\")\n",
    "q.to_dataframe()[\"Ratio\"].loc[0]"
   ]
  },
  {
   "cell_type": "code",
   "execution_count": null,
   "id": "b75c55e8-d615-4b59-8ee9-2dced1bc6d5d",
   "metadata": {},
   "outputs": [],
   "source": []
  }
 ],
 "metadata": {
  "kernelspec": {
   "display_name": "Python 3 (ipykernel)",
   "language": "python",
   "name": "python3"
  },
  "language_info": {
   "codemirror_mode": {
    "name": "ipython",
    "version": 3
   },
   "file_extension": ".py",
   "mimetype": "text/x-python",
   "name": "python",
   "nbconvert_exporter": "python",
   "pygments_lexer": "ipython3",
   "version": "3.10.6"
  }
 },
 "nbformat": 4,
 "nbformat_minor": 5
}
